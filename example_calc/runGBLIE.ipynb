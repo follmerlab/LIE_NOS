{
 "cells": [
  {
   "cell_type": "code",
   "execution_count": null,
   "id": "1f024e7f-941f-493e-8f1f-4a26e8d14baa",
   "metadata": {},
   "outputs": [],
   "source": [
    "import os\n",
    "import gbLIE as gb\n",
    "import pandas as pd"
   ]
  },
  {
   "cell_type": "code",
   "execution_count": null,
   "id": "8810b7b8-e2c7-4581-9bce-77b2f9556f06",
   "metadata": {},
   "outputs": [],
   "source": [
    "cwd = os.getcwd()"
   ]
  },
  {
   "cell_type": "code",
   "execution_count": null,
   "id": "1247c153-e2d4-4d19-a479-09a5ce3f5ec3",
   "metadata": {},
   "outputs": [],
   "source": [
    "# Give list of folders with trajectory and parm files\n",
    "# These folders are named after NOS isoform and the pdb of their respective NOS inhibitors\n",
    "# The trajectories should be stripped of explicit solvents and you will need to know the ligand residue ID number (e.g. 421 or 844) to calculate the affinity.\n",
    "inhibitors = ['nnos_ji4']\n",
    "alpha = 0.1066\n",
    "beta = 0.0399\n",
    "gamma = -0.0674"
   ]
  },
  {
   "cell_type": "code",
   "execution_count": null,
   "id": "60d810ea-7720-4dcd-8c63-39f595003095",
   "metadata": {},
   "outputs": [],
   "source": [
    "# The gb.gblie function will take in the path and list of inhibitors (make sure mmpbsa.in is in the path). \n",
    "# It will then prepare new folders to run the calculations enumerated by the time and date they were run. \n",
    "# Provide the name of the parm7 and trajectory files along with the residue number of the ligand to calculate the affinity. \n",
    "# You can provide alpha, beta, and gamme values to calculate a ∆G.\n",
    "# The proc parameter allows for the 'mm_pbsa.pl' script to be run in parallel."
   ]
  },
  {
   "cell_type": "code",
   "execution_count": null,
   "id": "9a278120-c597-4fe4-83c3-5f0271c059b5",
   "metadata": {},
   "outputs": [],
   "source": [
    "df844 = gb.gblie(cwd,inhibitors,'strip.parm7','strip.trj.gz',\"844\",alpha,beta,gamma,proc=32)"
   ]
  },
  {
   "cell_type": "code",
   "execution_count": null,
   "id": "e936723c-7040-445b-9387-fa687d474f17",
   "metadata": {},
   "outputs": [],
   "source": [
    "df421 = gb.gblie(cwd,inhibitors,'strip.parm7','strip.trj.gz',\"421\",alpha,beta,gamma,proc=32)"
   ]
  },
  {
   "cell_type": "code",
   "execution_count": null,
   "id": "7cd3125c-361d-45d6-af4a-23d145396fb7",
   "metadata": {},
   "outputs": [],
   "source": [
    "averages = (pd.concat([df844, df421]).groupby('Inhibitor', as_index=True,sort=False).\n",
    "                      agg({'dEEL':'mean', 'dVDW':'mean', 'dGlie':'mean'}))"
   ]
  },
  {
   "cell_type": "code",
   "execution_count": null,
   "id": "eacb2f66-1b8b-49ca-92c2-bf059e49e382",
   "metadata": {},
   "outputs": [],
   "source": [
    "averages"
   ]
  }
 ],
 "metadata": {
  "kernelspec": {
   "display_name": "Python 3 (ipykernel)",
   "language": "python",
   "name": "python3"
  },
  "language_info": {
   "codemirror_mode": {
    "name": "ipython",
    "version": 3
   },
   "file_extension": ".py",
   "mimetype": "text/x-python",
   "name": "python",
   "nbconvert_exporter": "python",
   "pygments_lexer": "ipython3",
   "version": "3.12.3"
  }
 },
 "nbformat": 4,
 "nbformat_minor": 5
}
