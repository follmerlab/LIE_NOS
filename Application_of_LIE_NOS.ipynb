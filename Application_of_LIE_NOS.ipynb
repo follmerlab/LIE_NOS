{
 "cells": [
  {
   "cell_type": "markdown",
   "id": "d66eb760",
   "metadata": {},
   "source": [
    "# Application of the Linear Interaction Energy Method to Nitric Oxide Synthase Structure Based Inhibitor Design"
   ]
  },
  {
   "cell_type": "markdown",
   "id": "a998e7a1",
   "metadata": {},
   "source": [
    "## Import packages"
   ]
  },
  {
   "cell_type": "code",
   "execution_count": 4,
   "id": "b8e037cf",
   "metadata": {},
   "outputs": [],
   "source": [
    "import numpy as np\n",
    "import pandas as pd\n",
    "import scipy\n",
    "import matplotlib.pyplot as plt\n",
    "import seaborn as sns\n",
    "from sklearn.linear_model import LinearRegression\n",
    "from scipy.stats import norm\n",
    "from scipy.stats import bootstrap\n",
    "import plotly.express as px\n",
    "from matplotlib.ticker import MaxNLocator"
   ]
  },
  {
   "cell_type": "code",
   "execution_count": 5,
   "id": "71b588bf",
   "metadata": {},
   "outputs": [],
   "source": [
    "# Function for performing regression and return values of alpha beta and gamma\n",
    "def fitterlm(var1,var2,data):\n",
    "    # Assume you have independent variables X and a dependent variable y\n",
    "    X = np.array([var1,var2]).T\n",
    "    y = data\n",
    "    # Create an instance of the LinearRegression class\n",
    "    reg = LinearRegression()\n",
    "    # Fit the model to the data\n",
    "    dgfit = reg.fit(X, y)\n",
    "    [alpha,beta,gamma] = dgfit.coef_[0],dgfit.coef_[1],dgfit.intercept_\n",
    "    return alpha,beta,gamma\n",
    "#boot\n",
    "def bootstrapper(data, sample_size, rounds):\n",
    "    \"\"\"\n",
    "    Function for performing bootstrapping.\n",
    "\n",
    "    Parameters:\n",
    "    - data: DataFrame containing the data for bootstrapping.\n",
    "    - sample_size: Number of samples to be selected in each bootstrap iteration.\n",
    "    - rounds: Number of bootstrap rounds to perform.\n",
    "\n",
    "    Returns:\n",
    "    - dataset: DataFrame containing the bootstrapped estimates of the coefficients.\n",
    "    \"\"\"\n",
    "    \n",
    "    # Initialize an array to store the bootstrapped estimates\n",
    "    out = np.zeros([rounds, 3])  # 3 columns for alpha, beta, gamma\n",
    "    dups_distribution = [] # distribution of duplicates in bootstrap samples\n",
    "    # Perform bootstrapping for the specified number of rounds\n",
    "    for i in np.arange(rounds):\n",
    "        # Generate a bootstrap sample by sampling with replacement from the original data\n",
    "        df_bootstrap_sample = data[['dGexp', 'EEL', 'VDW']].sample(n=sample_size, replace=True)\n",
    "        dups_distribution.append(df_bootstrap_sample.duplicated().sum())\n",
    "        # Extract the bootstrap sample data into separate arrays\n",
    "        dGexp = df_bootstrap_sample['dGexp'].to_numpy()\n",
    "        eel = df_bootstrap_sample['EEL'].to_numpy()\n",
    "        vdw = df_bootstrap_sample['VDW'].to_numpy()\n",
    "        \n",
    "        # Fit a linear model to the bootstrap sample and store the coefficients\n",
    "        out[i] = fitterlm(eel, vdw, dGexp)\n",
    "    \n",
    "    # Create a DataFrame from the bootstrapped coefficient estimates\n",
    "    dataset = pd.DataFrame({'alpha': out[:, 0], 'beta': out[:, 1], 'gamma': out[:, 2]})\n",
    "    \n",
    "    # Drop duplicate rows, if any\n",
    "    dataset = dataset.drop_duplicates()\n",
    "    \n",
    "    # Return the DataFrame containing the bootstrapped estimates\n",
    "    return dataset, np.array(dups_distribution)\n",
    "\n",
    "\n",
    "def histoplot(dataset, bins,save=False,fname=None):\n",
    "    fig, (ax1, ax2, ax3) = plt.subplots(1, 3, figsize=(9, 3), sharey=True)\n",
    "    fig.tight_layout()\n",
    "    \n",
    "    # Define the distribution to fit (e.g., normal distribution)\n",
    "    dist = norm\n",
    "    \n",
    "    # Fit and overlay the distribution on each histogram\n",
    "    for ax, column,name in zip([ax1, ax2, ax3], ['alpha', 'beta', 'gamma'], ['α','β','γ']):\n",
    "        data = dataset[column]\n",
    "        ax.hist(data, bins=bins, color='k')\n",
    "        mean, std_dev = dist.fit(data)\n",
    "        xmin, xmax = ax.get_xlim()\n",
    "        x = np.linspace(xmin, xmax, 100)\n",
    "        y = dist.pdf(x, mean, std_dev)\n",
    "        ax.plot(x, y * len(data) * np.diff(ax.hist(data, bins=bins)[1])[0], color='r', linewidth=2)\n",
    "        \n",
    "        ax.axvline(data.mean(), color='k', linestyle='dashed', linewidth=2)\n",
    "        ax.spines['top'].set_visible(False)\n",
    "        ax.spines['right'].set_visible(False)\n",
    "        ax.spines['bottom'].set_linewidth(2)\n",
    "        ax.spines['left'].set_linewidth(2)\n",
    "        ax.xaxis.set_tick_params(labelsize=14, width=1,direction='in')\n",
    "        ax.yaxis.set_tick_params(labelsize=14, width=1,direction='in')\n",
    "        ax.set_xlabel(name, fontsize=16, fontweight='regular')\n",
    "        ax.xaxis.label.set_color('k')\n",
    "        ax.yaxis.label.set_color('k')\n",
    "        # formatting\n",
    "        #plt.gca().xaxis.set_major_locator(MaxNLocator(prune='lower'))\n",
    "        plt.gca().yaxis.set_major_locator(MaxNLocator(prune='lower'))\n",
    "        plt.subplots_adjust(bottom=0.25)\n",
    "        \n",
    "        if ax == ax1:\n",
    "            ax.set_ylabel('Counts', fontsize=16, fontweight='regular')\n",
    "        \n",
    "        if save == True:\n",
    "        \n",
    "            # Save as PNG\n",
    "            plt.savefig('figure_histoplot_%s.png' % fname, dpi=300)\n",
    "\n",
    "            # Save as SVG\n",
    "            plt.savefig('figure_histoplot_%s.svg' % fname , dpi=300)\n",
    "\n",
    "    plt.show()\n",
    "\n",
    "# Example usage:\n",
    "# histoplot(dataset, bins=20, alpha=0.5)"
   ]
  },
  {
   "cell_type": "markdown",
   "id": "8f0866e9",
   "metadata": {},
   "source": [
    "#### Testing our simplified method using Eq. 5, we utilized the data from Tables 2 and 3 of Zhou et al. to compare with their data.\n",
    "#### Eq. 5 $\\Delta G_{\\text{LIE}} = \\alpha*(\\Delta \\text{VdW}_{b-f})+\\beta*(\\Delta \\text{EEL}_{b-f}) + \\gamma$"
   ]
  },
  {
   "cell_type": "code",
   "execution_count": 6,
   "id": "12e07858",
   "metadata": {},
   "outputs": [],
   "source": [
    "\n",
    "# Experimental data\n",
    "delG_exp = np.array([-7.32, -7.73, -9.2, -8.06, -10.01, -12.16, -8.03, -5.43, -10.96, -11.24,\n",
    "                     -11.89, -9.93, -6.52, -5.78, -9.35, -11.19, -12.16, -11.68, -5.11, -8.4])\n",
    "\n",
    "# Data from Zhao 2001 paper\n",
    "delG_Zhao = np.array([-7.73, -9.01, -8.56, -7.24, -9.82, -13.45, -7.87, -6.06, -10.2, -10.2,\n",
    "                      -9.31, -8.49, -7.62, -7.15, -10.67, -10.77, -11.25, -11.85, -5.53, -9.59])\n",
    "\n",
    "# Fit to Zhao data\n",
    "f, residuals, rank, singular_values, rcond = np.polyfit(delG_exp, delG_Zhao, 1, full=True)\n",
    "R2_zhao = 1 - residuals / np.linalg.norm(delG_Zhao - np.mean(delG_Zhao)) ** 2\n",
    "\n",
    "# Load data from CSV file\n",
    "mmgbsa_val = pd.read_csv('mmgbsa_vals_4fit.csv')\n",
    "\n",
    "# Data workup\n",
    "mmgbsa_val['U Sum'] = mmgbsa_val['Urx free'] + mmgbsa_val['Ucav free']\n",
    "mmgbsa_val['totEEL'] = mmgbsa_val['EEL b'] + 2 * mmgbsa_val['Urx b'] - 2 * mmgbsa_val['U Sum']\n",
    "\n",
    "# coefficients\n",
    "a = 0.302727\n",
    "b = 0.291872\n",
    "g = 3.72266\n",
    "\n",
    "liefit = a * mmgbsa_val['totEEL'] + b * mmgbsa_val['VDW bound'] + g\n",
    "\n",
    "# Fit to our data\n",
    "f1, residuals1, rank1, singular_values1, rcond1 = np.polyfit(delG_exp, liefit, 1, full=True)\n",
    "R2_tlp = 1 - residuals1 / np.linalg.norm(liefit - np.mean(liefit)) ** 2\n"
   ]
  },
  {
   "cell_type": "markdown",
   "id": "4e3756ad",
   "metadata": {},
   "source": [
    "## Figure 1"
   ]
  },
  {
   "cell_type": "code",
   "execution_count": 7,
   "id": "4ce131b0",
   "metadata": {},
   "outputs": [
    {
     "name": "stdout",
     "output_type": "stream",
     "text": [
      "The R² for this fit is 0.778. See figure below.\n"
     ]
    },
    {
     "data": {
      "image/png": "[encoded data removed]",
      "text/plain": [
       "<Figure size 625x575 with 1 Axes>"
      ]
     },
     "metadata": {},
     "output_type": "display_data"
    }
   ],
   "source": [
    "# Plotting\n",
    "plt.rcParams['font.family'] = 'Helvetica'\n",
    "fig1 = plt.figure(1, figsize=(6.25, 5.75))\n",
    "ax1 = fig1.gca()\n",
    "ax1.scatter(mmgbsa_val['dGexp'], mmgbsa_val['dGzhao'], marker='o', facecolors='k', edgecolors='k', label='Zhao')\n",
    "ax1.scatter(mmgbsa_val['dGexp'], liefit, marker='o', color='r', label='This Work')\n",
    "x = np.linspace(min(delG_exp), max(delG_exp))\n",
    "ax1.plot(x, np.polyval(f, x), 'k', linewidth=3, label='Fit Zhao')\n",
    "ax1.plot(x, np.polyval(f1, x), 'r', linewidth=3, label='Fit LIE')\n",
    "\n",
    "#ax1.legend()\n",
    "\n",
    "ax1.spines['top'].set_linewidth(2)\n",
    "ax1.spines['right'].set_linewidth(2)\n",
    "ax1.spines['bottom'].set_linewidth(2)\n",
    "ax1.spines['left'].set_linewidth(2)\n",
    "ax1.xaxis.set_tick_params(labelsize=14, width=1,direction='in')\n",
    "ax1.yaxis.set_tick_params(labelsize=14, width=1,direction='in')\n",
    "ax1.set_xlabel('∆G$_{LIE}$ (kcal/mol)', fontsize=16, fontweight='regular')\n",
    "ax1.set_ylabel('∆G$_{exp}$ (kcal/mol)', fontsize=16, fontweight='regular')\n",
    "ax1.xaxis.label.set_color('k')\n",
    "ax1.yaxis.label.set_color('k')\n",
    "plt.subplots_adjust(left=0.15)\n",
    "plt.subplots_adjust(bottom=0.1)\n",
    "# Save as PNG\n",
    "plt.savefig('figure_1.png', dpi=300)\n",
    "\n",
    "\n",
    "# Save as SVG\n",
    "plt.savefig('figure_1.svg', dpi=300)\n",
    "\n",
    "# Table\n",
    "table1 = pd.DataFrame({'delG_exp': delG_exp, 'delG_Zhao': delG_Zhao, 'LIE fit': liefit})\n",
    "print(\"The R\\u00b2 for this fit is %.3f. See figure below.\" % (R2_tlp)) "
   ]
  },
  {
   "cell_type": "markdown",
   "id": "d6d9afa3",
   "metadata": {},
   "source": [
    "## Table 1"
   ]
  },
  {
   "cell_type": "code",
   "execution_count": 8,
   "id": "cd6d4e98",
   "metadata": {},
   "outputs": [
    {
     "data": {
      "text/html": [
       "<div>\n",
       "<style scoped>\n",
       "    .dataframe tbody tr th:only-of-type {\n",
       "        vertical-align: middle;\n",
       "    }\n",
       "\n",
       "    .dataframe tbody tr th {\n",
       "        vertical-align: top;\n",
       "    }\n",
       "\n",
       "    .dataframe thead th {\n",
       "        text-align: right;\n",
       "    }\n",
       "</style>\n",
       "<table border=\"1\" class=\"dataframe\">\n",
       "  <thead>\n",
       "    <tr style=\"text-align: right;\">\n",
       "      <th></th>\n",
       "      <th>delG_exp</th>\n",
       "      <th>delG_Zhao</th>\n",
       "      <th>LIE fit</th>\n",
       "    </tr>\n",
       "  </thead>\n",
       "  <tbody>\n",
       "    <tr>\n",
       "      <th>0</th>\n",
       "      <td>-7.32</td>\n",
       "      <td>-7.73</td>\n",
       "      <td>-7.397505</td>\n",
       "    </tr>\n",
       "    <tr>\n",
       "      <th>1</th>\n",
       "      <td>-7.73</td>\n",
       "      <td>-9.01</td>\n",
       "      <td>-8.376435</td>\n",
       "    </tr>\n",
       "    <tr>\n",
       "      <th>2</th>\n",
       "      <td>-9.20</td>\n",
       "      <td>-8.56</td>\n",
       "      <td>-8.488767</td>\n",
       "    </tr>\n",
       "    <tr>\n",
       "      <th>3</th>\n",
       "      <td>-8.06</td>\n",
       "      <td>-7.24</td>\n",
       "      <td>-7.229019</td>\n",
       "    </tr>\n",
       "    <tr>\n",
       "      <th>4</th>\n",
       "      <td>-10.01</td>\n",
       "      <td>-9.82</td>\n",
       "      <td>-10.784514</td>\n",
       "    </tr>\n",
       "    <tr>\n",
       "      <th>5</th>\n",
       "      <td>-12.16</td>\n",
       "      <td>-13.45</td>\n",
       "      <td>-13.029844</td>\n",
       "    </tr>\n",
       "    <tr>\n",
       "      <th>6</th>\n",
       "      <td>-8.03</td>\n",
       "      <td>-7.87</td>\n",
       "      <td>-7.889344</td>\n",
       "    </tr>\n",
       "    <tr>\n",
       "      <th>7</th>\n",
       "      <td>-5.43</td>\n",
       "      <td>-6.06</td>\n",
       "      <td>-5.919541</td>\n",
       "    </tr>\n",
       "    <tr>\n",
       "      <th>8</th>\n",
       "      <td>-10.96</td>\n",
       "      <td>-10.20</td>\n",
       "      <td>-10.276073</td>\n",
       "    </tr>\n",
       "    <tr>\n",
       "      <th>9</th>\n",
       "      <td>-11.24</td>\n",
       "      <td>-10.20</td>\n",
       "      <td>-10.155602</td>\n",
       "    </tr>\n",
       "    <tr>\n",
       "      <th>10</th>\n",
       "      <td>-11.89</td>\n",
       "      <td>-9.31</td>\n",
       "      <td>-9.199170</td>\n",
       "    </tr>\n",
       "    <tr>\n",
       "      <th>11</th>\n",
       "      <td>-9.93</td>\n",
       "      <td>-8.49</td>\n",
       "      <td>-8.686991</td>\n",
       "    </tr>\n",
       "    <tr>\n",
       "      <th>12</th>\n",
       "      <td>-6.52</td>\n",
       "      <td>-7.62</td>\n",
       "      <td>-6.935615</td>\n",
       "    </tr>\n",
       "    <tr>\n",
       "      <th>13</th>\n",
       "      <td>-5.78</td>\n",
       "      <td>-7.15</td>\n",
       "      <td>-8.331081</td>\n",
       "    </tr>\n",
       "    <tr>\n",
       "      <th>14</th>\n",
       "      <td>-9.35</td>\n",
       "      <td>-10.67</td>\n",
       "      <td>-9.525067</td>\n",
       "    </tr>\n",
       "    <tr>\n",
       "      <th>15</th>\n",
       "      <td>-11.19</td>\n",
       "      <td>-10.77</td>\n",
       "      <td>-11.277810</td>\n",
       "    </tr>\n",
       "    <tr>\n",
       "      <th>16</th>\n",
       "      <td>-12.16</td>\n",
       "      <td>-11.25</td>\n",
       "      <td>-11.408125</td>\n",
       "    </tr>\n",
       "    <tr>\n",
       "      <th>17</th>\n",
       "      <td>-11.68</td>\n",
       "      <td>-11.85</td>\n",
       "      <td>-12.320154</td>\n",
       "    </tr>\n",
       "    <tr>\n",
       "      <th>18</th>\n",
       "      <td>-5.11</td>\n",
       "      <td>-5.53</td>\n",
       "      <td>-5.430669</td>\n",
       "    </tr>\n",
       "    <tr>\n",
       "      <th>19</th>\n",
       "      <td>-8.40</td>\n",
       "      <td>-9.59</td>\n",
       "      <td>-9.488563</td>\n",
       "    </tr>\n",
       "  </tbody>\n",
       "</table>\n",
       "</div>"
      ],
      "text/plain": [
       "    delG_exp  delG_Zhao    LIE fit\n",
       "0      -7.32      -7.73  -7.397505\n",
       "1      -7.73      -9.01  -8.376435\n",
       "2      -9.20      -8.56  -8.488767\n",
       "3      -8.06      -7.24  -7.229019\n",
       "4     -10.01      -9.82 -10.784514\n",
       "5     -12.16     -13.45 -13.029844\n",
       "6      -8.03      -7.87  -7.889344\n",
       "7      -5.43      -6.06  -5.919541\n",
       "8     -10.96     -10.20 -10.276073\n",
       "9     -11.24     -10.20 -10.155602\n",
       "10    -11.89      -9.31  -9.199170\n",
       "11     -9.93      -8.49  -8.686991\n",
       "12     -6.52      -7.62  -6.935615\n",
       "13     -5.78      -7.15  -8.331081\n",
       "14     -9.35     -10.67  -9.525067\n",
       "15    -11.19     -10.77 -11.277810\n",
       "16    -12.16     -11.25 -11.408125\n",
       "17    -11.68     -11.85 -12.320154\n",
       "18     -5.11      -5.53  -5.430669\n",
       "19     -8.40      -9.59  -9.488563"
      ]
     },
     "execution_count": 8,
     "metadata": {},
     "output_type": "execute_result"
    }
   ],
   "source": [
    "table1"
   ]
  },
  {
   "cell_type": "markdown",
   "id": "63cdd82f",
   "metadata": {},
   "source": [
    "## Moving on to NOS"
   ]
  },
  {
   "cell_type": "markdown",
   "id": "49965924",
   "metadata": {},
   "source": [
    "### Load the data"
   ]
  },
  {
   "cell_type": "code",
   "execution_count": 9,
   "id": "a4ea7487",
   "metadata": {},
   "outputs": [
    {
     "data": {
      "text/html": [
       "<div>\n",
       "<style scoped>\n",
       "    .dataframe tbody tr th:only-of-type {\n",
       "        vertical-align: middle;\n",
       "    }\n",
       "\n",
       "    .dataframe tbody tr th {\n",
       "        vertical-align: top;\n",
       "    }\n",
       "\n",
       "    .dataframe thead th {\n",
       "        text-align: right;\n",
       "    }\n",
       "</style>\n",
       "<table border=\"1\" class=\"dataframe\">\n",
       "  <thead>\n",
       "    <tr style=\"text-align: right;\">\n",
       "      <th></th>\n",
       "      <th>LigID</th>\n",
       "      <th>Isoform</th>\n",
       "      <th>Variant</th>\n",
       "      <th>Origin</th>\n",
       "      <th>PDB</th>\n",
       "      <th>EEL_A</th>\n",
       "      <th>EEL_B</th>\n",
       "      <th>EEL</th>\n",
       "      <th>VDW_A</th>\n",
       "      <th>VDW_B</th>\n",
       "      <th>VDW</th>\n",
       "      <th>dGexp</th>\n",
       "      <th>Ki</th>\n",
       "      <th>AltID</th>\n",
       "      <th>Reference</th>\n",
       "      <th>subform</th>\n",
       "    </tr>\n",
       "  </thead>\n",
       "  <tbody>\n",
       "    <tr>\n",
       "      <th>0</th>\n",
       "      <td>JI4</td>\n",
       "      <td>nNOS</td>\n",
       "      <td>WT</td>\n",
       "      <td>rat</td>\n",
       "      <td>3JWS</td>\n",
       "      <td>-68.35</td>\n",
       "      <td>-71.93</td>\n",
       "      <td>-70.140</td>\n",
       "      <td>-45.55</td>\n",
       "      <td>-46.02</td>\n",
       "      <td>-45.785</td>\n",
       "      <td>-9.893899</td>\n",
       "      <td>0.0522</td>\n",
       "      <td>J4</td>\n",
       "      <td>1</td>\n",
       "      <td>nNOS</td>\n",
       "    </tr>\n",
       "    <tr>\n",
       "      <th>1</th>\n",
       "      <td>JI4</td>\n",
       "      <td>nNOS</td>\n",
       "      <td>D597N</td>\n",
       "      <td>rat</td>\n",
       "      <td>3JX0</td>\n",
       "      <td>-49.11</td>\n",
       "      <td>-57.61</td>\n",
       "      <td>-53.360</td>\n",
       "      <td>-46.38</td>\n",
       "      <td>-44.27</td>\n",
       "      <td>-45.325</td>\n",
       "      <td>-8.049064</td>\n",
       "      <td>1.1900</td>\n",
       "      <td>J4</td>\n",
       "      <td>1</td>\n",
       "      <td>nNOS</td>\n",
       "    </tr>\n",
       "    <tr>\n",
       "      <th>2</th>\n",
       "      <td>JI4</td>\n",
       "      <td>eNOS</td>\n",
       "      <td>WT</td>\n",
       "      <td>bovine</td>\n",
       "      <td>3JWW</td>\n",
       "      <td>-47.24</td>\n",
       "      <td>-42.15</td>\n",
       "      <td>-44.695</td>\n",
       "      <td>-41.05</td>\n",
       "      <td>-46.43</td>\n",
       "      <td>-43.740</td>\n",
       "      <td>-6.220288</td>\n",
       "      <td>26.4000</td>\n",
       "      <td>J4</td>\n",
       "      <td>1</td>\n",
       "      <td>eNOS</td>\n",
       "    </tr>\n",
       "    <tr>\n",
       "      <th>3</th>\n",
       "      <td>J11</td>\n",
       "      <td>nNOS</td>\n",
       "      <td>WT</td>\n",
       "      <td>rat</td>\n",
       "      <td>3JWU</td>\n",
       "      <td>-69.56</td>\n",
       "      <td>-68.21</td>\n",
       "      <td>-68.885</td>\n",
       "      <td>-47.70</td>\n",
       "      <td>-44.56</td>\n",
       "      <td>-46.130</td>\n",
       "      <td>-9.193769</td>\n",
       "      <td>0.1710</td>\n",
       "      <td>J11</td>\n",
       "      <td>1</td>\n",
       "      <td>nNOS</td>\n",
       "    </tr>\n",
       "    <tr>\n",
       "      <th>4</th>\n",
       "      <td>J11</td>\n",
       "      <td>eNOS</td>\n",
       "      <td>WT</td>\n",
       "      <td>bovine</td>\n",
       "      <td>3JWY</td>\n",
       "      <td>-38.68</td>\n",
       "      <td>-47.70</td>\n",
       "      <td>-43.190</td>\n",
       "      <td>-48.68</td>\n",
       "      <td>-47.77</td>\n",
       "      <td>-48.225</td>\n",
       "      <td>-6.215835</td>\n",
       "      <td>26.6000</td>\n",
       "      <td>J11</td>\n",
       "      <td>1</td>\n",
       "      <td>eNOS</td>\n",
       "    </tr>\n",
       "  </tbody>\n",
       "</table>\n",
       "</div>"
      ],
      "text/plain": [
       "  LigID Isoform Variant  Origin   PDB  EEL_A  EEL_B     EEL  VDW_A  VDW_B  \\\n",
       "0   JI4    nNOS      WT     rat  3JWS -68.35 -71.93 -70.140 -45.55 -46.02   \n",
       "1   JI4    nNOS   D597N     rat  3JX0 -49.11 -57.61 -53.360 -46.38 -44.27   \n",
       "2   JI4    eNOS      WT  bovine  3JWW -47.24 -42.15 -44.695 -41.05 -46.43   \n",
       "3   J11    nNOS      WT     rat  3JWU -69.56 -68.21 -68.885 -47.70 -44.56   \n",
       "4   J11    eNOS      WT  bovine  3JWY -38.68 -47.70 -43.190 -48.68 -47.77   \n",
       "\n",
       "      VDW     dGexp       Ki AltID  Reference subform  \n",
       "0 -45.785 -9.893899   0.0522    J4          1    nNOS  \n",
       "1 -45.325 -8.049064   1.1900    J4          1    nNOS  \n",
       "2 -43.740 -6.220288  26.4000    J4          1    eNOS  \n",
       "3 -46.130 -9.193769   0.1710   J11          1    nNOS  \n",
       "4 -48.225 -6.215835  26.6000   J11          1    eNOS  "
      ]
     },
     "execution_count": 9,
     "metadata": {},
     "output_type": "execute_result"
    }
   ],
   "source": [
    "nos_df = pd.read_excel('SI_NOS_InhibitorTable_Final.xlsx')\n",
    "nnos_df = nos_df[nos_df['Isoform'].str.contains(\"nNOS\")]\n",
    "enos_df = nos_df[nos_df['Isoform'].str.contains(\"eNOS\")]\n",
    "nos_df.loc[nos_df['Isoform'].str.contains(\"nNOS\"),'subform'] = 'nNOS'\n",
    "nos_df.loc[nos_df['Isoform'].str.contains(\"eNOS\"),'subform'] = 'eNOS'\n",
    "nos_df.head()"
   ]
  },
  {
   "cell_type": "markdown",
   "id": "72dd53de",
   "metadata": {},
   "source": [
    "### Let's take a quick look at the data"
   ]
  },
  {
   "cell_type": "code",
   "execution_count": 94,
   "id": "b593a875",
   "metadata": {},
   "outputs": [],
   "source": [
    "# Filtering data based on conditions\n",
    "# Selecting rows from nos_df DataFrame that are only associated with the wild-type (WT)\n",
    "data = nos_df[nos_df['Variant'] == 'WT']\n",
    "\n",
    "# Further filtering data to get 'nNOS' data\n",
    "nnos_data = data[data['Isoform'] == 'nNOS']\n",
    "\n",
    "# Further filtering data to get 'eNOS' data\n",
    "enos_data = data[data['Isoform'] == 'eNOS']\n",
    "\n",
    "# Extracting specific columns from the filtered DataFrame and converting them to NumPy arrays\n",
    "# Extracting the 'dGexp' column and converting it to a NumPy array\n",
    "dGexp = data['dGexp'].to_numpy()\n",
    "\n",
    "# Extracting the electrostatics or 'EEL' column and converting it to a NumPy array\n",
    "eel = data['EEL'].to_numpy()\n",
    "\n",
    "# Extracting the Van der Wals or 'VDW' column and converting it to a NumPy array\n",
    "vdw = data['VDW'].to_numpy()"
   ]
  },
  {
   "cell_type": "code",
   "execution_count": 12,
   "id": "05b0bb93",
   "metadata": {
    "scrolled": false
   },
   "outputs": [
    {
     "data": {
      "application/vnd.plotly.v1+json": {
       "config": {
        "plotlyServerURL": "https://plot.ly"
       },
       "data": [
        {
         "hovertemplate": "Isoform=nNOS<br>EEL=%{x}<br>VDW=%{y}<br>dGexp=%{z}<extra></extra>",
         "legendgroup": "nNOS",
         "marker": {
          "color": "#636efa",
          "symbol": "circle"
         },
         "mode": "markers",
         "name": "nNOS",
         "scene": "scene",
         "showlegend": true,
         "type": "scatter3d",
         "x": [
          -70.14,
          -68.88499999999999,
          -89.975,
          -69.285,
          -85.675,
          -71.225,
          -59.120000000000005,
          -83.705,
          -68.25,
          -71.225,
          -84.14,
          -77.475,
          -79.58,
          -74.68,
          -84.64500000000001,
          -67,
          -84.13499999999999,
          -78.935,
          -76.96000000000001,
          -76.80000000000001,
          -91.89,
          -85.465,
          -86.02000000000001,
          -75.11,
          -73.83,
          -72.50999999999999,
          -63.89,
          -61.644999999999996,
          -70.31,
          -62.495000000000005,
          -70.195,
          -67.41,
          -79.02000000000001,
          -75.055,
          -73.245,
          -75.18,
          -78.795,
          -71.925,
          -72.07,
          -71.74000000000001,
          -62.285
         ],
         "y": [
          -45.785,
          -46.13,
          -39.59,
          -49.025,
          -41.595,
          -46.09,
          -56.7,
          -42.945,
          -52.24,
          -46.09,
          -38.945,
          -35.415,
          -39.85,
          -49.23,
          -48.055,
          -35.83,
          -45.535,
          -47.78,
          -40.275,
          -39.905,
          -38.405,
          -38.655,
          -36.135000000000005,
          -42.923,
          -40.945,
          -50.125,
          -41.285,
          -43.84,
          -40.614999999999995,
          -40.515,
          -39.915000000000006,
          -38.68,
          -32.31,
          -37.645,
          -39.055,
          -42.2,
          -47.480000000000004,
          -43.07,
          -45.52,
          -40.0269,
          -45.459999999999994
         ],
         "z": [
          -9.893898899,
          -9.19376861,
          -11.24354204,
          -9.738745793,
          -11.02315413,
          -9.378185694,
          -9.417682666,
          -10.22071327,
          -9.018871459,
          -10.20136596,
          -9.863068902,
          -9.58574796,
          -9.481533009,
          -9.672249874,
          -9.896163931,
          -8.892361059,
          -9.968504205,
          -10.00829726,
          -9.470399849,
          -10.00829726,
          -10.32829028,
          -10.59161752,
          -9.516251258,
          -10.1297582,
          -9.873895628,
          -9.968504205,
          -8.82033938,
          -9.166790654,
          -9.83173198,
          -8.730432342,
          -9.218430587,
          -9.931226126,
          -9.680065088,
          -8.960307064,
          -9.83173198,
          -9.089652253,
          -9.821645581,
          -10.11313626,
          -10.37748877,
          -10.03639971,
          -8.514186663
         ]
        },
        {
         "hovertemplate": "Isoform=eNOS<br>EEL=%{x}<br>VDW=%{y}<br>dGexp=%{z}<extra></extra>",
         "legendgroup": "eNOS",
         "marker": {
          "color": "#EF553B",
          "symbol": "circle"
         },
         "mode": "markers",
         "name": "eNOS",
         "scene": "scene",
         "showlegend": true,
         "type": "scatter3d",
         "x": [
          -44.695,
          -43.19,
          -40.025000000000006,
          -45.875,
          -48.455,
          -38.64,
          -50.605000000000004,
          -41.06,
          -38.69,
          -50.18,
          -44.040000000000006,
          -71.92,
          -41.815,
          -42.175,
          -48.05,
          -40.82,
          -49.335,
          -44.665,
          -52.870000000000005,
          -41.625,
          -42.605000000000004,
          -44.7
         ],
         "y": [
          -43.739999999999995,
          -48.225,
          -42.65,
          -46.775000000000006,
          -38.41,
          -47.760000000000005,
          -38.475,
          -40.480000000000004,
          -45.415,
          -41.445,
          -42.055,
          -50.045,
          -42.875,
          -41.980000000000004,
          -38.519999999999996,
          -40.69499999999999,
          -41.055,
          -39.644999999999996,
          -35.585,
          -43.36,
          -44.485,
          -42.879999999999995
         ],
         "z": [
          -6.220288149,
          -6.215834996,
          -6.375317102,
          -6.034178424,
          -6.408188589,
          -6.512089326,
          -5.81354283,
          -6.293990429,
          -6.20050842,
          -6.585603518,
          -6.492730197,
          -7.570032508,
          -6.670939901,
          -5.932445333,
          -6.546030695,
          -6.446268898,
          -6.642837447,
          -6.710621405,
          -6.728329142,
          -6.334608548,
          -6.328401804,
          -5.982464717
         ]
        }
       ],
       "layout": {
        "legend": {
         "title": {
          "text": "Isoform"
         },
         "tracegroupgap": 0
        },
        "margin": {
         "t": 60
        },
        "scene": {
         "domain": {
          "x": [
           0,
           1
          ],
          "y": [
           0,
           1
          ]
         },
         "xaxis": {
          "title": {
           "text": "EEL"
          }
         },
         "yaxis": {
          "title": {
           "text": "VDW"
          }
         },
         "zaxis": {
          "title": {
           "text": "dGexp"
          }
         }
        },
        "template": {
         "data": {
          "bar": [
           {
            "error_x": {
             "color": "#2a3f5f"
            },
            "error_y": {
             "color": "#2a3f5f"
            },
            "marker": {
             "line": {
              "color": "#E5ECF6",
              "width": 0.5
             }
            },
            "type": "bar"
           }
          ],
          "barpolar": [
           {
            "marker": {
             "line": {
              "color": "#E5ECF6",
              "width": 0.5
             }
            },
            "type": "barpolar"
           }
          ],
          "carpet": [
           {
            "aaxis": {
             "endlinecolor": "#2a3f5f",
             "gridcolor": "white",
             "linecolor": "white",
             "minorgridcolor": "white",
             "startlinecolor": "#2a3f5f"
            },
            "baxis": {
             "endlinecolor": "#2a3f5f",
             "gridcolor": "white",
             "linecolor": "white",
             "minorgridcolor": "white",
             "startlinecolor": "#2a3f5f"
            },
            "type": "carpet"
           }
          ],
          "choropleth": [
           {
            "colorbar": {
             "outlinewidth": 0,
             "ticks": ""
            },
            "type": "choropleth"
           }
          ],
          "contour": [
           {
            "colorbar": {
             "outlinewidth": 0,
             "ticks": ""
            },
            "colorscale": [
             [
              0,
              "#0d0887"
             ],
             [
              0.1111111111111111,
              "#46039f"
             ],
             [
              0.2222222222222222,
              "#7201a8"
             ],
             [
              0.3333333333333333,
              "#9c179e"
             ],
             [
              0.4444444444444444,
              "#bd3786"
             ],
             [
              0.5555555555555556,
              "#d8576b"
             ],
             [
              0.6666666666666666,
              "#ed7953"
             ],
             [
              0.7777777777777778,
              "#fb9f3a"
             ],
             [
              0.8888888888888888,
              "#fdca26"
             ],
             [
              1,
              "#f0f921"
             ]
            ],
            "type": "contour"
           }
          ],
          "contourcarpet": [
           {
            "colorbar": {
             "outlinewidth": 0,
             "ticks": ""
            },
            "type": "contourcarpet"
           }
          ],
          "heatmap": [
           {
            "colorbar": {
             "outlinewidth": 0,
             "ticks": ""
            },
            "colorscale": [
             [
              0,
              "#0d0887"
             ],
             [
              0.1111111111111111,
              "#46039f"
             ],
             [
              0.2222222222222222,
              "#7201a8"
             ],
             [
              0.3333333333333333,
              "#9c179e"
             ],
             [
              0.4444444444444444,
              "#bd3786"
             ],
             [
              0.5555555555555556,
              "#d8576b"
             ],
             [
              0.6666666666666666,
              "#ed7953"
             ],
             [
              0.7777777777777778,
              "#fb9f3a"
             ],
             [
              0.8888888888888888,
              "#fdca26"
             ],
             [
              1,
              "#f0f921"
             ]
            ],
            "type": "heatmap"
           }
          ],
          "heatmapgl": [
           {
            "colorbar": {
             "outlinewidth": 0,
             "ticks": ""
            },
            "colorscale": [
             [
              0,
              "#0d0887"
             ],
             [
              0.1111111111111111,
              "#46039f"
             ],
             [
              0.2222222222222222,
              "#7201a8"
             ],
             [
              0.3333333333333333,
              "#9c179e"
             ],
             [
              0.4444444444444444,
              "#bd3786"
             ],
             [
              0.5555555555555556,
              "#d8576b"
             ],
             [
              0.6666666666666666,
              "#ed7953"
             ],
             [
              0.7777777777777778,
              "#fb9f3a"
             ],
             [
              0.8888888888888888,
              "#fdca26"
             ],
             [
              1,
              "#f0f921"
             ]
            ],
            "type": "heatmapgl"
           }
          ],
          "histogram": [
           {
            "marker": {
             "colorbar": {
              "outlinewidth": 0,
              "ticks": ""
             }
            },
            "type": "histogram"
           }
          ],
          "histogram2d": [
           {
            "colorbar": {
             "outlinewidth": 0,
             "ticks": ""
            },
            "colorscale": [
             [
              0,
              "#0d0887"
             ],
             [
              0.1111111111111111,
              "#46039f"
             ],
             [
              0.2222222222222222,
              "#7201a8"
             ],
             [
              0.3333333333333333,
              "#9c179e"
             ],
             [
              0.4444444444444444,
              "#bd3786"
             ],
             [
              0.5555555555555556,
              "#d8576b"
             ],
             [
              0.6666666666666666,
              "#ed7953"
             ],
             [
              0.7777777777777778,
              "#fb9f3a"
             ],
             [
              0.8888888888888888,
              "#fdca26"
             ],
             [
              1,
              "#f0f921"
             ]
            ],
            "type": "histogram2d"
           }
          ],
          "histogram2dcontour": [
           {
            "colorbar": {
             "outlinewidth": 0,
             "ticks": ""
            },
            "colorscale": [
             [
              0,
              "#0d0887"
             ],
             [
              0.1111111111111111,
              "#46039f"
             ],
             [
              0.2222222222222222,
              "#7201a8"
             ],
             [
              0.3333333333333333,
              "#9c179e"
             ],
             [
              0.4444444444444444,
              "#bd3786"
             ],
             [
              0.5555555555555556,
              "#d8576b"
             ],
             [
              0.6666666666666666,
              "#ed7953"
             ],
             [
              0.7777777777777778,
              "#fb9f3a"
             ],
             [
              0.8888888888888888,
              "#fdca26"
             ],
             [
              1,
              "#f0f921"
             ]
            ],
            "type": "histogram2dcontour"
           }
          ],
          "mesh3d": [
           {
            "colorbar": {
             "outlinewidth": 0,
             "ticks": ""
            },
            "type": "mesh3d"
           }
          ],
          "parcoords": [
           {
            "line": {
             "colorbar": {
              "outlinewidth": 0,
              "ticks": ""
             }
            },
            "type": "parcoords"
           }
          ],
          "pie": [
           {
            "automargin": true,
            "type": "pie"
           }
          ],
          "scatter": [
           {
            "marker": {
             "colorbar": {
              "outlinewidth": 0,
              "ticks": ""
             }
            },
            "type": "scatter"
           }
          ],
          "scatter3d": [
           {
            "line": {
             "colorbar": {
              "outlinewidth": 0,
              "ticks": ""
             }
            },
            "marker": {
             "colorbar": {
              "outlinewidth": 0,
              "ticks": ""
             }
            },
            "type": "scatter3d"
           }
          ],
          "scattercarpet": [
           {
            "marker": {
             "colorbar": {
              "outlinewidth": 0,
              "ticks": ""
             }
            },
            "type": "scattercarpet"
           }
          ],
          "scattergeo": [
           {
            "marker": {
             "colorbar": {
              "outlinewidth": 0,
              "ticks": ""
             }
            },
            "type": "scattergeo"
           }
          ],
          "scattergl": [
           {
            "marker": {
             "colorbar": {
              "outlinewidth": 0,
              "ticks": ""
             }
            },
            "type": "scattergl"
           }
          ],
          "scattermapbox": [
           {
            "marker": {
             "colorbar": {
              "outlinewidth": 0,
              "ticks": ""
             }
            },
            "type": "scattermapbox"
           }
          ],
          "scatterpolar": [
           {
            "marker": {
             "colorbar": {
              "outlinewidth": 0,
              "ticks": ""
             }
            },
            "type": "scatterpolar"
           }
          ],
          "scatterpolargl": [
           {
            "marker": {
             "colorbar": {
              "outlinewidth": 0,
              "ticks": ""
             }
            },
            "type": "scatterpolargl"
           }
          ],
          "scatterternary": [
           {
            "marker": {
             "colorbar": {
              "outlinewidth": 0,
              "ticks": ""
             }
            },
            "type": "scatterternary"
           }
          ],
          "surface": [
           {
            "colorbar": {
             "outlinewidth": 0,
             "ticks": ""
            },
            "colorscale": [
             [
              0,
              "#0d0887"
             ],
             [
              0.1111111111111111,
              "#46039f"
             ],
             [
              0.2222222222222222,
              "#7201a8"
             ],
             [
              0.3333333333333333,
              "#9c179e"
             ],
             [
              0.4444444444444444,
              "#bd3786"
             ],
             [
              0.5555555555555556,
              "#d8576b"
             ],
             [
              0.6666666666666666,
              "#ed7953"
             ],
             [
              0.7777777777777778,
              "#fb9f3a"
             ],
             [
              0.8888888888888888,
              "#fdca26"
             ],
             [
              1,
              "#f0f921"
             ]
            ],
            "type": "surface"
           }
          ],
          "table": [
           {
            "cells": {
             "fill": {
              "color": "#EBF0F8"
             },
             "line": {
              "color": "white"
             }
            },
            "header": {
             "fill": {
              "color": "#C8D4E3"
             },
             "line": {
              "color": "white"
             }
            },
            "type": "table"
           }
          ]
         },
         "layout": {
          "annotationdefaults": {
           "arrowcolor": "#2a3f5f",
           "arrowhead": 0,
           "arrowwidth": 1
          },
          "coloraxis": {
           "colorbar": {
            "outlinewidth": 0,
            "ticks": ""
           }
          },
          "colorscale": {
           "diverging": [
            [
             0,
             "#8e0152"
            ],
            [
             0.1,
             "#c51b7d"
            ],
            [
             0.2,
             "#de77ae"
            ],
            [
             0.3,
             "#f1b6da"
            ],
            [
             0.4,
             "#fde0ef"
            ],
            [
             0.5,
             "#f7f7f7"
            ],
            [
             0.6,
             "#e6f5d0"
            ],
            [
             0.7,
             "#b8e186"
            ],
            [
             0.8,
             "#7fbc41"
            ],
            [
             0.9,
             "#4d9221"
            ],
            [
             1,
             "#276419"
            ]
           ],
           "sequential": [
            [
             0,
             "#0d0887"
            ],
            [
             0.1111111111111111,
             "#46039f"
            ],
            [
             0.2222222222222222,
             "#7201a8"
            ],
            [
             0.3333333333333333,
             "#9c179e"
            ],
            [
             0.4444444444444444,
             "#bd3786"
            ],
            [
             0.5555555555555556,
             "#d8576b"
            ],
            [
             0.6666666666666666,
             "#ed7953"
            ],
            [
             0.7777777777777778,
             "#fb9f3a"
            ],
            [
             0.8888888888888888,
             "#fdca26"
            ],
            [
             1,
             "#f0f921"
            ]
           ],
           "sequentialminus": [
            [
             0,
             "#0d0887"
            ],
            [
             0.1111111111111111,
             "#46039f"
            ],
            [
             0.2222222222222222,
             "#7201a8"
            ],
            [
             0.3333333333333333,
             "#9c179e"
            ],
            [
             0.4444444444444444,
             "#bd3786"
            ],
            [
             0.5555555555555556,
             "#d8576b"
            ],
            [
             0.6666666666666666,
             "#ed7953"
            ],
            [
             0.7777777777777778,
             "#fb9f3a"
            ],
            [
             0.8888888888888888,
             "#fdca26"
            ],
            [
             1,
             "#f0f921"
            ]
           ]
          },
          "colorway": [
           "#636efa",
           "#EF553B",
           "#00cc96",
           "#ab63fa",
           "#FFA15A",
           "#19d3f3",
           "#FF6692",
           "#B6E880",
           "#FF97FF",
           "#FECB52"
          ],
          "font": {
           "color": "#2a3f5f"
          },
          "geo": {
           "bgcolor": "white",
           "lakecolor": "white",
           "landcolor": "#E5ECF6",
           "showlakes": true,
           "showland": true,
           "subunitcolor": "white"
          },
          "hoverlabel": {
           "align": "left"
          },
          "hovermode": "closest",
          "mapbox": {
           "style": "light"
          },
          "paper_bgcolor": "white",
          "plot_bgcolor": "#E5ECF6",
          "polar": {
           "angularaxis": {
            "gridcolor": "white",
            "linecolor": "white",
            "ticks": ""
           },
           "bgcolor": "#E5ECF6",
           "radialaxis": {
            "gridcolor": "white",
            "linecolor": "white",
            "ticks": ""
           }
          },
          "scene": {
           "xaxis": {
            "backgroundcolor": "#E5ECF6",
            "gridcolor": "white",
            "gridwidth": 2,
            "linecolor": "white",
            "showbackground": true,
            "ticks": "",
            "zerolinecolor": "white"
           },
           "yaxis": {
            "backgroundcolor": "#E5ECF6",
            "gridcolor": "white",
            "gridwidth": 2,
            "linecolor": "white",
            "showbackground": true,
            "ticks": "",
            "zerolinecolor": "white"
           },
           "zaxis": {
            "backgroundcolor": "#E5ECF6",
            "gridcolor": "white",
            "gridwidth": 2,
            "linecolor": "white",
            "showbackground": true,
            "ticks": "",
            "zerolinecolor": "white"
           }
          },
          "shapedefaults": {
           "line": {
            "color": "#2a3f5f"
           }
          },
          "ternary": {
           "aaxis": {
            "gridcolor": "white",
            "linecolor": "white",
            "ticks": ""
           },
           "baxis": {
            "gridcolor": "white",
            "linecolor": "white",
            "ticks": ""
           },
           "bgcolor": "#E5ECF6",
           "caxis": {
            "gridcolor": "white",
            "linecolor": "white",
            "ticks": ""
           }
          },
          "title": {
           "x": 0.05
          },
          "xaxis": {
           "automargin": true,
           "gridcolor": "white",
           "linecolor": "white",
           "ticks": "",
           "title": {
            "standoff": 15
           },
           "zerolinecolor": "white",
           "zerolinewidth": 2
          },
          "yaxis": {
           "automargin": true,
           "gridcolor": "white",
           "linecolor": "white",
           "ticks": "",
           "title": {
            "standoff": 15
           },
           "zerolinecolor": "white",
           "zerolinewidth": 2
          }
         }
        }
       }
      },
      "text/html": [
       "<div>\n",
       "        \n",
       "        \n",
       "            <div id=\"6b4e2050-9ce2-4eeb-9c3d-6e4d0eae6bb6\" class=\"plotly-graph-div\" style=\"height:525px; width:100%;\"></div>\n",
       "            <script type=\"text/javascript\">\n",
       "                require([\"plotly\"], function(Plotly) {\n",
       "                    window.PLOTLYENV=window.PLOTLYENV || {};\n",
       "                    \n",
       "                if (document.getElementById(\"6b4e2050-9ce2-4eeb-9c3d-6e4d0eae6bb6\")) {\n",
       "                    Plotly.newPlot(\n",
       "                        '6b4e2050-9ce2-4eeb-9c3d-6e4d0eae6bb6',\n",
       "                        [{\"hovertemplate\": \"Isoform=nNOS<br>EEL=%{x}<br>VDW=%{y}<br>dGexp=%{z}<extra></extra>\", \"legendgroup\": \"nNOS\", \"marker\": {\"color\": \"#636efa\", \"symbol\": \"circle\"}, \"mode\": \"markers\", \"name\": \"nNOS\", \"scene\": \"scene\", \"showlegend\": true, \"type\": \"scatter3d\", \"x\": [-70.14, -68.88499999999999, -89.975, -69.285, -85.675, -71.225, -59.120000000000005, -83.705, -68.25, -71.225, -84.14, -77.475, -79.58, -74.68, -84.64500000000001, -67.0, -84.13499999999999, -78.935, -76.96000000000001, -76.80000000000001, -91.89, -85.465, -86.02000000000001, -75.11, -73.83, -72.50999999999999, -63.89, -61.644999999999996, -70.31, -62.495000000000005, -70.195, -67.41, -79.02000000000001, -75.055, -73.245, -75.18, -78.795, -71.925, -72.07, -71.74000000000001, -62.285], \"y\": [-45.785, -46.13, -39.59, -49.025, -41.595, -46.09, -56.7, -42.945, -52.24, -46.09, -38.945, -35.415, -39.85, -49.23, -48.055, -35.83, -45.535, -47.78, -40.275, -39.905, -38.405, -38.655, -36.135000000000005, -42.923, -40.945, -50.125, -41.285, -43.84, -40.614999999999995, -40.515, -39.915000000000006, -38.68, -32.31, -37.645, -39.055, -42.2, -47.480000000000004, -43.07, -45.52, -40.0269, -45.459999999999994], \"z\": [-9.893898899, -9.19376861, -11.24354204, -9.738745793, -11.02315413, -9.378185694, -9.417682666, -10.22071327, -9.018871459, -10.20136596, -9.863068902, -9.58574796, -9.481533009, -9.672249874, -9.896163931, -8.892361059, -9.968504205, -10.00829726, -9.470399849, -10.00829726, -10.32829028, -10.59161752, -9.516251258, -10.1297582, -9.873895628, -9.968504205, -8.82033938, -9.166790654, -9.83173198, -8.730432342, -9.218430587, -9.931226126, -9.680065088, -8.960307064, -9.83173198, -9.089652253, -9.821645581, -10.11313626, -10.37748877, -10.03639971, -8.514186663]}, {\"hovertemplate\": \"Isoform=eNOS<br>EEL=%{x}<br>VDW=%{y}<br>dGexp=%{z}<extra></extra>\", \"legendgroup\": \"eNOS\", \"marker\": {\"color\": \"#EF553B\", \"symbol\": \"circle\"}, \"mode\": \"markers\", \"name\": \"eNOS\", \"scene\": \"scene\", \"showlegend\": true, \"type\": \"scatter3d\", \"x\": [-44.695, -43.19, -40.025000000000006, -45.875, -48.455, -38.64, -50.605000000000004, -41.06, -38.69, -50.18, -44.040000000000006, -71.92, -41.815, -42.175, -48.05, -40.82, -49.335, -44.665, -52.870000000000005, -41.625, -42.605000000000004, -44.7], \"y\": [-43.739999999999995, -48.225, -42.65, -46.775000000000006, -38.41, -47.760000000000005, -38.475, -40.480000000000004, -45.415, -41.445, -42.055, -50.045, -42.875, -41.980000000000004, -38.519999999999996, -40.69499999999999, -41.055, -39.644999999999996, -35.585, -43.36, -44.485, -42.879999999999995], \"z\": [-6.220288149, -6.215834996, -6.375317102, -6.034178424, -6.408188589, -6.512089326, -5.81354283, -6.293990429, -6.20050842, -6.585603518, -6.492730197, -7.570032508, -6.670939901, -5.932445333, -6.546030695, -6.446268898, -6.642837447, -6.710621405, -6.728329142, -6.334608548, -6.328401804, -5.982464717]}],\n",
       "                        {\"legend\": {\"title\": {\"text\": \"Isoform\"}, \"tracegroupgap\": 0}, \"margin\": {\"t\": 60}, \"scene\": {\"domain\": {\"x\": [0.0, 1.0], \"y\": [0.0, 1.0]}, \"xaxis\": {\"title\": {\"text\": \"EEL\"}}, \"yaxis\": {\"title\": {\"text\": \"VDW\"}}, \"zaxis\": {\"title\": {\"text\": \"dGexp\"}}}, \"template\": {\"data\": {\"bar\": [{\"error_x\": {\"color\": \"#2a3f5f\"}, \"error_y\": {\"color\": \"#2a3f5f\"}, \"marker\": {\"line\": {\"color\": \"#E5ECF6\", \"width\": 0.5}}, \"type\": \"bar\"}], \"barpolar\": [{\"marker\": {\"line\": {\"color\": \"#E5ECF6\", \"width\": 0.5}}, \"type\": \"barpolar\"}], \"carpet\": [{\"aaxis\": {\"endlinecolor\": \"#2a3f5f\", \"gridcolor\": \"white\", \"linecolor\": \"white\", \"minorgridcolor\": \"white\", \"startlinecolor\": \"#2a3f5f\"}, \"baxis\": {\"endlinecolor\": \"#2a3f5f\", \"gridcolor\": \"white\", \"linecolor\": \"white\", \"minorgridcolor\": \"white\", \"startlinecolor\": \"#2a3f5f\"}, \"type\": \"carpet\"}], \"choropleth\": [{\"colorbar\": {\"outlinewidth\": 0, \"ticks\": \"\"}, \"type\": \"choropleth\"}], \"contour\": [{\"colorbar\": {\"outlinewidth\": 0, \"ticks\": \"\"}, \"colorscale\": [[0.0, \"#0d0887\"], [0.1111111111111111, \"#46039f\"], [0.2222222222222222, \"#7201a8\"], [0.3333333333333333, \"#9c179e\"], [0.4444444444444444, \"#bd3786\"], [0.5555555555555556, \"#d8576b\"], [0.6666666666666666, \"#ed7953\"], [0.7777777777777778, \"#fb9f3a\"], [0.8888888888888888, \"#fdca26\"], [1.0, \"#f0f921\"]], \"type\": \"contour\"}], \"contourcarpet\": [{\"colorbar\": {\"outlinewidth\": 0, \"ticks\": \"\"}, \"type\": \"contourcarpet\"}], \"heatmap\": [{\"colorbar\": {\"outlinewidth\": 0, \"ticks\": \"\"}, \"colorscale\": [[0.0, \"#0d0887\"], [0.1111111111111111, \"#46039f\"], [0.2222222222222222, \"#7201a8\"], [0.3333333333333333, \"#9c179e\"], [0.4444444444444444, \"#bd3786\"], [0.5555555555555556, \"#d8576b\"], [0.6666666666666666, \"#ed7953\"], [0.7777777777777778, \"#fb9f3a\"], [0.8888888888888888, \"#fdca26\"], [1.0, \"#f0f921\"]], \"type\": \"heatmap\"}], \"heatmapgl\": [{\"colorbar\": {\"outlinewidth\": 0, \"ticks\": \"\"}, \"colorscale\": [[0.0, \"#0d0887\"], [0.1111111111111111, \"#46039f\"], [0.2222222222222222, \"#7201a8\"], [0.3333333333333333, \"#9c179e\"], [0.4444444444444444, \"#bd3786\"], [0.5555555555555556, \"#d8576b\"], [0.6666666666666666, \"#ed7953\"], [0.7777777777777778, \"#fb9f3a\"], [0.8888888888888888, \"#fdca26\"], [1.0, \"#f0f921\"]], \"type\": \"heatmapgl\"}], \"histogram\": [{\"marker\": {\"colorbar\": {\"outlinewidth\": 0, \"ticks\": \"\"}}, \"type\": \"histogram\"}], \"histogram2d\": [{\"colorbar\": {\"outlinewidth\": 0, \"ticks\": \"\"}, \"colorscale\": [[0.0, \"#0d0887\"], [0.1111111111111111, \"#46039f\"], [0.2222222222222222, \"#7201a8\"], [0.3333333333333333, \"#9c179e\"], [0.4444444444444444, \"#bd3786\"], [0.5555555555555556, \"#d8576b\"], [0.6666666666666666, \"#ed7953\"], [0.7777777777777778, \"#fb9f3a\"], [0.8888888888888888, \"#fdca26\"], [1.0, \"#f0f921\"]], \"type\": \"histogram2d\"}], \"histogram2dcontour\": [{\"colorbar\": {\"outlinewidth\": 0, \"ticks\": \"\"}, \"colorscale\": [[0.0, \"#0d0887\"], [0.1111111111111111, \"#46039f\"], [0.2222222222222222, \"#7201a8\"], [0.3333333333333333, \"#9c179e\"], [0.4444444444444444, \"#bd3786\"], [0.5555555555555556, \"#d8576b\"], [0.6666666666666666, \"#ed7953\"], [0.7777777777777778, \"#fb9f3a\"], [0.8888888888888888, \"#fdca26\"], [1.0, \"#f0f921\"]], \"type\": \"histogram2dcontour\"}], \"mesh3d\": [{\"colorbar\": {\"outlinewidth\": 0, \"ticks\": \"\"}, \"type\": \"mesh3d\"}], \"parcoords\": [{\"line\": {\"colorbar\": {\"outlinewidth\": 0, \"ticks\": \"\"}}, \"type\": \"parcoords\"}], \"pie\": [{\"automargin\": true, \"type\": \"pie\"}], \"scatter\": [{\"marker\": {\"colorbar\": {\"outlinewidth\": 0, \"ticks\": \"\"}}, \"type\": \"scatter\"}], \"scatter3d\": [{\"line\": {\"colorbar\": {\"outlinewidth\": 0, \"ticks\": \"\"}}, \"marker\": {\"colorbar\": {\"outlinewidth\": 0, \"ticks\": \"\"}}, \"type\": \"scatter3d\"}], \"scattercarpet\": [{\"marker\": {\"colorbar\": {\"outlinewidth\": 0, \"ticks\": \"\"}}, \"type\": \"scattercarpet\"}], \"scattergeo\": [{\"marker\": {\"colorbar\": {\"outlinewidth\": 0, \"ticks\": \"\"}}, \"type\": \"scattergeo\"}], \"scattergl\": [{\"marker\": {\"colorbar\": {\"outlinewidth\": 0, \"ticks\": \"\"}}, \"type\": \"scattergl\"}], \"scattermapbox\": [{\"marker\": {\"colorbar\": {\"outlinewidth\": 0, \"ticks\": \"\"}}, \"type\": \"scattermapbox\"}], \"scatterpolar\": [{\"marker\": {\"colorbar\": {\"outlinewidth\": 0, \"ticks\": \"\"}}, \"type\": \"scatterpolar\"}], \"scatterpolargl\": [{\"marker\": {\"colorbar\": {\"outlinewidth\": 0, \"ticks\": \"\"}}, \"type\": \"scatterpolargl\"}], \"scatterternary\": [{\"marker\": {\"colorbar\": {\"outlinewidth\": 0, \"ticks\": \"\"}}, \"type\": \"scatterternary\"}], \"surface\": [{\"colorbar\": {\"outlinewidth\": 0, \"ticks\": \"\"}, \"colorscale\": [[0.0, \"#0d0887\"], [0.1111111111111111, \"#46039f\"], [0.2222222222222222, \"#7201a8\"], [0.3333333333333333, \"#9c179e\"], [0.4444444444444444, \"#bd3786\"], [0.5555555555555556, \"#d8576b\"], [0.6666666666666666, \"#ed7953\"], [0.7777777777777778, \"#fb9f3a\"], [0.8888888888888888, \"#fdca26\"], [1.0, \"#f0f921\"]], \"type\": \"surface\"}], \"table\": [{\"cells\": {\"fill\": {\"color\": \"#EBF0F8\"}, \"line\": {\"color\": \"white\"}}, \"header\": {\"fill\": {\"color\": \"#C8D4E3\"}, \"line\": {\"color\": \"white\"}}, \"type\": \"table\"}]}, \"layout\": {\"annotationdefaults\": {\"arrowcolor\": \"#2a3f5f\", \"arrowhead\": 0, \"arrowwidth\": 1}, \"coloraxis\": {\"colorbar\": {\"outlinewidth\": 0, \"ticks\": \"\"}}, \"colorscale\": {\"diverging\": [[0, \"#8e0152\"], [0.1, \"#c51b7d\"], [0.2, \"#de77ae\"], [0.3, \"#f1b6da\"], [0.4, \"#fde0ef\"], [0.5, \"#f7f7f7\"], [0.6, \"#e6f5d0\"], [0.7, \"#b8e186\"], [0.8, \"#7fbc41\"], [0.9, \"#4d9221\"], [1, \"#276419\"]], \"sequential\": [[0.0, \"#0d0887\"], [0.1111111111111111, \"#46039f\"], [0.2222222222222222, \"#7201a8\"], [0.3333333333333333, \"#9c179e\"], [0.4444444444444444, \"#bd3786\"], [0.5555555555555556, \"#d8576b\"], [0.6666666666666666, \"#ed7953\"], [0.7777777777777778, \"#fb9f3a\"], [0.8888888888888888, \"#fdca26\"], [1.0, \"#f0f921\"]], \"sequentialminus\": [[0.0, \"#0d0887\"], [0.1111111111111111, \"#46039f\"], [0.2222222222222222, \"#7201a8\"], [0.3333333333333333, \"#9c179e\"], [0.4444444444444444, \"#bd3786\"], [0.5555555555555556, \"#d8576b\"], [0.6666666666666666, \"#ed7953\"], [0.7777777777777778, \"#fb9f3a\"], [0.8888888888888888, \"#fdca26\"], [1.0, \"#f0f921\"]]}, \"colorway\": [\"#636efa\", \"#EF553B\", \"#00cc96\", \"#ab63fa\", \"#FFA15A\", \"#19d3f3\", \"#FF6692\", \"#B6E880\", \"#FF97FF\", \"#FECB52\"], \"font\": {\"color\": \"#2a3f5f\"}, \"geo\": {\"bgcolor\": \"white\", \"lakecolor\": \"white\", \"landcolor\": \"#E5ECF6\", \"showlakes\": true, \"showland\": true, \"subunitcolor\": \"white\"}, \"hoverlabel\": {\"align\": \"left\"}, \"hovermode\": \"closest\", \"mapbox\": {\"style\": \"light\"}, \"paper_bgcolor\": \"white\", \"plot_bgcolor\": \"#E5ECF6\", \"polar\": {\"angularaxis\": {\"gridcolor\": \"white\", \"linecolor\": \"white\", \"ticks\": \"\"}, \"bgcolor\": \"#E5ECF6\", \"radialaxis\": {\"gridcolor\": \"white\", \"linecolor\": \"white\", \"ticks\": \"\"}}, \"scene\": {\"xaxis\": {\"backgroundcolor\": \"#E5ECF6\", \"gridcolor\": \"white\", \"gridwidth\": 2, \"linecolor\": \"white\", \"showbackground\": true, \"ticks\": \"\", \"zerolinecolor\": \"white\"}, \"yaxis\": {\"backgroundcolor\": \"#E5ECF6\", \"gridcolor\": \"white\", \"gridwidth\": 2, \"linecolor\": \"white\", \"showbackground\": true, \"ticks\": \"\", \"zerolinecolor\": \"white\"}, \"zaxis\": {\"backgroundcolor\": \"#E5ECF6\", \"gridcolor\": \"white\", \"gridwidth\": 2, \"linecolor\": \"white\", \"showbackground\": true, \"ticks\": \"\", \"zerolinecolor\": \"white\"}}, \"shapedefaults\": {\"line\": {\"color\": \"#2a3f5f\"}}, \"ternary\": {\"aaxis\": {\"gridcolor\": \"white\", \"linecolor\": \"white\", \"ticks\": \"\"}, \"baxis\": {\"gridcolor\": \"white\", \"linecolor\": \"white\", \"ticks\": \"\"}, \"bgcolor\": \"#E5ECF6\", \"caxis\": {\"gridcolor\": \"white\", \"linecolor\": \"white\", \"ticks\": \"\"}}, \"title\": {\"x\": 0.05}, \"xaxis\": {\"automargin\": true, \"gridcolor\": \"white\", \"linecolor\": \"white\", \"ticks\": \"\", \"title\": {\"standoff\": 15}, \"zerolinecolor\": \"white\", \"zerolinewidth\": 2}, \"yaxis\": {\"automargin\": true, \"gridcolor\": \"white\", \"linecolor\": \"white\", \"ticks\": \"\", \"title\": {\"standoff\": 15}, \"zerolinecolor\": \"white\", \"zerolinewidth\": 2}}}},\n",
       "                        {\"responsive\": true}\n",
       "                    ).then(function(){\n",
       "                            \n",
       "var gd = document.getElementById('6b4e2050-9ce2-4eeb-9c3d-6e4d0eae6bb6');\n",
       "var x = new MutationObserver(function (mutations, observer) {{\n",
       "        var display = window.getComputedStyle(gd).display;\n",
       "        if (!display || display === 'none') {{\n",
       "            console.log([gd, 'removed!']);\n",
       "            Plotly.purge(gd);\n",
       "            observer.disconnect();\n",
       "        }}\n",
       "}});\n",
       "\n",
       "// Listen for the removal of the full notebook cells\n",
       "var notebookContainer = gd.closest('#notebook-container');\n",
       "if (notebookContainer) {{\n",
       "    x.observe(notebookContainer, {childList: true});\n",
       "}}\n",
       "\n",
       "// Listen for the clearing of the current output cell\n",
       "var outputEl = gd.closest('.output');\n",
       "if (outputEl) {{\n",
       "    x.observe(outputEl, {childList: true});\n",
       "}}\n",
       "\n",
       "                        })\n",
       "                };\n",
       "                });\n",
       "            </script>\n",
       "        </div>"
      ]
     },
     "metadata": {},
     "output_type": "display_data"
    }
   ],
   "source": [
    "# Make a 3D ploit of the data colored by Isoform\n",
    "df = px.data.iris()\n",
    "fig = px.scatter_3d(data, x='EEL', y='VDW', z='dGexp',color='Isoform')\n",
    "fig.show()"
   ]
  },
  {
   "cell_type": "markdown",
   "id": "097273d0",
   "metadata": {},
   "source": [
    "### Let's perform bootstrap regression using our \"bootstrapper\" function (above)"
   ]
  },
  {
   "cell_type": "code",
   "execution_count": 13,
   "id": "43e312c6",
   "metadata": {},
   "outputs": [],
   "source": [
    "samples = 100000\n",
    "wtnos_output,wt_dups = bootstrapper(data,data.shape[0],samples)\n",
    "nnos_output,nnos_dups = bootstrapper(nnos_data,nnos_data.shape[0],samples)\n",
    "enos_output,enos_dups = bootstrapper(enos_data,enos_data.shape[0],samples)"
   ]
  },
  {
   "cell_type": "code",
   "execution_count": 14,
   "id": "187b6944",
   "metadata": {},
   "outputs": [
    {
     "data": {
      "image/png": "[encoded data removed]",
      "text/plain": [
       "<Figure size 900x300 with 3 Axes>"
      ]
     },
     "metadata": {},
     "output_type": "display_data"
    },
    {
     "name": "stdout",
     "output_type": "stream",
     "text": [
      "α is 0.0996 with a standard deviation of 0.0041.\n",
      "β is 0.0385 with a standard deviation of 0.0205.\n",
      "γ is -0.4941 with a standard deviation of 0.9562.\n"
     ]
    }
   ],
   "source": [
    "histoplot(wtnos_output,1000,save=True,fname='full_wt')\n",
    "# calculated the ∆G based off the coefficients estimated from the distributions\n",
    "alpha = wtnos_output['alpha'].mean()\n",
    "beta = wtnos_output['beta'].mean()\n",
    "gamma = wtnos_output['gamma'].mean()\n",
    "\n",
    "dGLIE = alpha*data['EEL'] + beta*data['VDW'] + gamma\n",
    "\n",
    "LIEG = pd.DataFrame({'dGLIE': dGLIE})\n",
    "# append calculated ∆G to dataframe\n",
    "data = pd.concat([data,LIEG],axis=1)\n",
    "print(\"α is %.4f with a standard deviation of %.4f.\" % (wtnos_output['alpha'].mean(), wtnos_output['alpha'].std()))\n",
    "print(\"β is %.4f with a standard deviation of %.4f.\" % (wtnos_output['beta'].mean(), wtnos_output['beta'].std()))\n",
    "print(\"γ is %.4f with a standard deviation of %.4f.\" % (wtnos_output['gamma'].mean(), wtnos_output['gamma'].std()))"
   ]
  },
  {
   "cell_type": "code",
   "execution_count": 15,
   "id": "03ca14db",
   "metadata": {},
   "outputs": [
    {
     "data": {
      "image/png": "[encoded data removed]",
      "text/plain": [
       "<Figure size 900x300 with 3 Axes>"
      ]
     },
     "metadata": {},
     "output_type": "display_data"
    },
    {
     "name": "stdout",
     "output_type": "stream",
     "text": [
      "\n",
      "This is compared to the full data set where...\n",
      "α is 0.0533 with a standard deviation of 0.0097.\n",
      "β is 0.0232 with a standard deviation of 0.0129.\n",
      "γ is -4.7579 with a standard deviation of 1.0246.\n"
     ]
    }
   ],
   "source": [
    "#nNOS data Bootstrapping \n",
    "histoplot(nnos_output,1000,save=True,fname='full_nnos')\n",
    "\n",
    "print(\"\\nThis is compared to the nNOS data set where...\")\n",
    "print(\"α is %.4f with a standard deviation of %.4f.\" % (nnos_output['alpha'].mean(), nnos_output['alpha'].std()))\n",
    "print(\"β is %.4f with a standard deviation of %.4f.\" % (nnos_output['beta'].mean(), nnos_output['beta'].std()))\n",
    "print(\"γ is %.4f with a standard deviation of %.4f.\" % (nnos_output['gamma'].mean(), nnos_output['gamma'].std()))"
   ]
  },
  {
   "cell_type": "code",
   "execution_count": 16,
   "id": "5ad0e91a",
   "metadata": {},
   "outputs": [
    {
     "data": {
      "image/png": "[encoded data removed]",
      "text/plain": [
       "<Figure size 900x300 with 3 Axes>"
      ]
     },
     "metadata": {},
     "output_type": "display_data"
    }
   ],
   "source": [
    "#eNOS data Bootstrapping \n",
    "histoplot(enos_output,1000,save=True,fname='full_enos')"
   ]
  },
  {
   "cell_type": "markdown",
   "id": "efb66f5f",
   "metadata": {},
   "source": [
    "### Figure S1 for eNOS"
   ]
  },
  {
   "cell_type": "code",
   "execution_count": 65,
   "id": "36761c6e",
   "metadata": {},
   "outputs": [
    {
     "name": "stdout",
     "output_type": "stream",
     "text": [
      "For this eNOS data subset...\n",
      "α(1) is -0.0039 with a standard deviation of 0.0181.\n",
      "α(2) is 0.0339 with a standard deviation of 0.0063.\n",
      "β(1) is -0.0252 with a standard deviation of 0.0160.\n",
      "β(2) is 0.0082 with a standard deviation of 0.0195.\n",
      "γ(1) is -7.8225 with a standard deviation of 1.1946.\n",
      "γ(2) is -4.2864 with a standard deviation of 0.6119.\n"
     ]
    },
    {
     "data": {
      "image/png": "[encoded data removed]",
      "text/plain": [
       "<Figure size 900x300 with 3 Axes>"
      ]
     },
     "metadata": {},
     "output_type": "display_data"
    }
   ],
   "source": [
    "#Due to the bimodal behavior of eNOS data, a manual fitting procedure was done. To be automated later.\n",
    "fig, (ax1, ax2, ax3) = plt.subplots(1, 3, figsize=(9, 3), sharey=True)\n",
    "fig.tight_layout()\n",
    "bins = 1000\n",
    "\n",
    "print(\"For this eNOS data subset...\")\n",
    "# Fit and overlay the bimodal distribution on each histogram\n",
    "for ax, column, name in zip([ax1, ax2, ax3], ['alpha', 'beta', 'gamma'], ['α', 'β', 'γ']):\n",
    "    enoshist = enos_output[column]\n",
    "    ax.hist(enoshist, bins=bins, color='k')\n",
    "    if column == 'alpha':\n",
    "        # Fit first normal mode\n",
    "        mean1, std_dev1 = norm.fit(enoshist[enoshist < (enoshist.mean()+0.25*enoshist.mean())])\n",
    "        x1 = np.linspace(enoshist.min(), enoshist.max(), 100)\n",
    "        y1 = norm.pdf(x1, mean1, std_dev1)\n",
    "        \n",
    "        # Fit second normal mode\n",
    "        mean2, std_dev2 = norm.fit(enoshist[enoshist >= (enoshist.mean()-0.25*enoshist.mean())])\n",
    "        x2 = np.linspace(enoshist.min(), enoshist.max(), 100)\n",
    "        y2 = norm.pdf(x2, mean2, std_dev2)\n",
    "        print(\"α(1) is %.4f with a standard deviation of %.4f.\" % (mean1,std_dev1))\n",
    "        print(\"α(2) is %.4f with a standard deviation of %.4f.\" % (mean2,std_dev2))\n",
    "        \n",
    "        # Plot fitted distributions\n",
    "        ax.plot(x1, (y1 * len(enoshist))/2.6 * np.diff(ax.hist(enoshist, bins=bins,color='C0')[1])[0], color='r', linewidth=2)\n",
    "        ax.plot(x2, (y2 * len(enoshist))/1.4 * np.diff(ax.hist(enoshist, bins=bins,color='C0')[1])[0], color='r', linewidth=2)\n",
    "        # Plot means as dashed lines\n",
    "        ax.axvline(enoshist[enoshist < (enoshist.mean()+0.25*enoshist.mean())].mean(), color='k', linestyle='dashed', linewidth=2)\n",
    "        ax.axvline(enoshist[enoshist >= (enoshist.mean()-0.25*enoshist.mean())].mean(), color='k', linestyle='dashed', linewidth=2) \n",
    "        \n",
    "    elif column == 'beta':\n",
    "        # Fit first normal mode\n",
    "        mean1, std_dev1 = norm.fit(enoshist[enoshist < (enoshist.mean()-0*enoshist.mean())])\n",
    "        \n",
    "        x1 = np.linspace(enoshist.min(), enoshist.max(), 100)\n",
    "        y1 = norm.pdf(x1, mean1, std_dev1)\n",
    "        \n",
    "        # Fit second normal mode\n",
    "        mean2, std_dev2 = norm.fit(enoshist[enoshist >= (enoshist.mean()+12*enoshist.mean())])\n",
    "        x2 = np.linspace(enoshist.min(), enoshist.max(), 100)\n",
    "        y2 = norm.pdf(x2, mean2, std_dev2)\n",
    "        # Plot fitted distributions\n",
    "        ax.plot(x1, (y1 * len(enoshist))/2.5 * np.diff(ax.hist(enoshist, bins=bins, color='C0')[1])[0], color='r', linewidth=2)\n",
    "        ax.plot(x2, (y2 * len(enoshist))/1.3 * np.diff(ax.hist(enoshist, bins=bins, color='C0')[1])[0], color='r', linewidth=2)\n",
    "        # Plot means as dashed lines\n",
    "        ax.axvline(enoshist[enoshist < (enoshist.mean()-0*enoshist.mean())].mean(), color='k', linestyle='dashed', linewidth=2)\n",
    "        ax.axvline(enoshist[enoshist >= (enoshist.mean()+12*enoshist.mean())].mean(), color='k', linestyle='dashed', linewidth=2)    \n",
    "        print(\"β(1) is %.4f with a standard deviation of %.4f.\" % (mean1,std_dev1))\n",
    "        print(\"β(2) is %.4f with a standard deviation of %.4f.\" % (mean2,std_dev2))\n",
    "        \n",
    "    elif column == 'gamma':\n",
    "        # Fit first normal mode\n",
    "        mean1, std_dev1 = norm.fit(enoshist[enoshist < (enoshist.mean()+0.0*enoshist.mean())])\n",
    "        \n",
    "        x1 = np.linspace(enoshist.min(), enoshist.max(), 100)\n",
    "        y1 = norm.pdf(x1, mean1, std_dev1)\n",
    "        \n",
    "        # Fit second normal mode\n",
    "        mean2, std_dev2 = norm.fit(enoshist[enoshist >= (enoshist.mean()+0.0*enoshist.mean())])\n",
    "        x2 = np.linspace(enoshist.min(), enoshist.max(), 100)\n",
    "        y2 = norm.pdf(x2, mean2, std_dev2)\n",
    "        # Plot fitted distributions\n",
    "        ax.plot(x1, (y1 * len(enoshist))/2.9 * np.diff(ax.hist(enoshist, bins=bins, color='C0')[1])[0], color='r', linewidth=2)\n",
    "        ax.plot(x2, (y2 * len(enoshist))/1.6 * np.diff(ax.hist(enoshist, bins=bins, color='C0')[1])[0], color='r', linewidth=2)\n",
    "        # Plot means as dashed lines\n",
    "        ax.axvline(enoshist[enoshist < (enoshist.mean()+0.0*enoshist.mean())].mean(), color='k', linestyle='dashed', linewidth=2)\n",
    "        ax.axvline(enoshist[enoshist >= (enoshist.mean()+0.0*enoshist.mean())].mean(), color='k', linestyle='dashed', linewidth=2)    \n",
    "        print(\"γ(1) is %.4f with a standard deviation of %.4f.\" % (mean1,std_dev1))\n",
    "        print(\"γ(2) is %.4f with a standard deviation of %.4f.\" % (mean2,std_dev2))\n",
    "        \n",
    "    else:\n",
    "        # Fit normal distribution\n",
    "        mean, std_dev = norm.fit(enoshist)\n",
    "        xmin, xmax = ax.get_xlim()\n",
    "        x = np.linspace(xmin, xmax, 100)\n",
    "        y = norm.pdf(x, mean, std_dev)\n",
    "        \n",
    "        # Plot fitted distribution\n",
    "        ax.plot(x, y * len(enoshist) * np.diff(ax.hist(enoshist, bins=bins)[1])[0], color='r', linewidth=2)\n",
    "    \n",
    "        # Plot mean as dashed line\n",
    "        ax.axvline(enoshist.mean(), color='k', linestyle='dashed', linewidth=2)\n",
    "        print(\"β is %.4f with a standard deviation of %.4f.\" % (mean,std_dev))\n",
    "    \n",
    "    # Adjust plot aesthetics\n",
    "    ax.spines['top'].set_visible(False)\n",
    "    ax.spines['right'].set_visible(False)\n",
    "    ax.spines['bottom'].set_linewidth(2)\n",
    "    ax.spines['left'].set_linewidth(2)\n",
    "    ax.xaxis.set_tick_params(labelsize=14, width=1, direction='in')\n",
    "    ax.yaxis.set_tick_params(labelsize=14, width=1, direction='in')\n",
    "    ax.set_xlabel(name, fontsize=16, fontweight='regular')\n",
    "    ax.xaxis.label.set_color('k')\n",
    "    ax.yaxis.label.set_color('k')\n",
    "    # formatting\n",
    "    plt.gca().yaxis.set_major_locator(MaxNLocator(prune='lower'))\n",
    "    plt.subplots_adjust(bottom=0.25)\n",
    "    if ax == ax1:\n",
    "        ax.set_ylabel('Counts', fontsize=16, fontweight='regular')\n",
    "        \n",
    "        \n",
    "# Save as PNG\n",
    "plt.savefig('figure_histoplot_enos2.png', dpi=300)\n",
    "\n",
    "# Save as SVG\n",
    "plt.savefig('figure_histoplot_enos2.svg', dpi=300)\n",
    "\n",
    "plt.show()\n"
   ]
  },
  {
   "cell_type": "markdown",
   "id": "b0fa4927",
   "metadata": {},
   "source": [
    "### Using the calculated ∆G values from the bootstrapping analysis, perform a linear regression against the experimental ∆Gs"
   ]
  },
  {
   "cell_type": "code",
   "execution_count": 18,
   "id": "4f138ac3",
   "metadata": {},
   "outputs": [
    {
     "name": "stdout",
     "output_type": "stream",
     "text": [
      "The R² for the full NOS data set fit is 0.878. See figure below.\n"
     ]
    }
   ],
   "source": [
    "slope, intercept, r_value, p_value, std_err = scipy.stats.linregress(dGLIE, dGexp)\n",
    "dGrange = np.linspace(min(dGLIE)-.1,max(dGLIE)+.1)\n",
    "linefit = slope*dGrange +intercept\n",
    "rsq = r_value**2\n",
    "print(\"The R\\u00b2 for the full NOS data set fit is %.3f. See figure below.\" % (rsq))"
   ]
  },
  {
   "cell_type": "markdown",
   "id": "e48ebf68",
   "metadata": {},
   "source": [
    "## Figure 3"
   ]
  },
  {
   "cell_type": "code",
   "execution_count": 19,
   "id": "588843f0",
   "metadata": {},
   "outputs": [
    {
     "data": {
      "image/png": "[encoded data removed]",
      "text/plain": [
       "<Figure size 900x300 with 3 Axes>"
      ]
     },
     "metadata": {},
     "output_type": "display_data"
    },
    {
     "data": {
      "image/png": "[encoded data removed]",
      "text/plain": [
       "<Figure size 350x300 with 1 Axes>"
      ]
     },
     "metadata": {},
     "output_type": "display_data"
    }
   ],
   "source": [
    "#All WT data Bootstrapping \n",
    "histoplot(wtnos_output,1000,save=True,fname='full_wt_3')\n",
    "\n",
    "nos = np.array(data['Isoform']=='nNOS')\n",
    "col = np.where(nos,'r','b')\n",
    "\n",
    "fig ,ax = plt.subplots(1,1,figsize=(3.5,3))\n",
    "fig.tight_layout()\n",
    "plt.scatter(dGLIE,dGexp,c=col,s=28,edgecolor='k')\n",
    "plt.plot(dGrange,linefit,'k--')\n",
    "\n",
    "ax.spines['top'].set_visible(False)\n",
    "ax.spines['right'].set_visible(False)\n",
    "ax.spines['bottom'].set_linewidth(2)\n",
    "ax.spines['left'].set_linewidth(2)\n",
    "ax.xaxis.set_tick_params(labelsize=14, width=1,direction='in')\n",
    "ax.yaxis.set_tick_params(labelsize=14, width=1,direction='in')\n",
    "ax.set_xlabel('∆G$_{LIE}$ (kcal/mol)', fontsize=16, fontweight='regular')\n",
    "ax.set_ylabel('∆G$_{exp}$ (kcal/mol)', fontsize=16, fontweight='regular')\n",
    "ax.xaxis.label.set_color('k')\n",
    "ax.yaxis.label.set_color('k')\n",
    "plt.subplots_adjust(left=0.25)\n",
    "plt.subplots_adjust(bottom=0.25)\n",
    "# Save as PNG\n",
    "plt.savefig('figure_3b.png', dpi=300)\n",
    "\n",
    "\n",
    "# Save as SVG\n",
    "plt.savefig('figure_3b.svg', dpi=300)"
   ]
  },
  {
   "cell_type": "code",
   "execution_count": 20,
   "id": "f03b631c",
   "metadata": {},
   "outputs": [
    {
     "data": {
      "text/html": [
       "<div>\n",
       "<style scoped>\n",
       "    .dataframe tbody tr th:only-of-type {\n",
       "        vertical-align: middle;\n",
       "    }\n",
       "\n",
       "    .dataframe tbody tr th {\n",
       "        vertical-align: top;\n",
       "    }\n",
       "\n",
       "    .dataframe thead th {\n",
       "        text-align: right;\n",
       "    }\n",
       "</style>\n",
       "<table border=\"1\" class=\"dataframe\">\n",
       "  <thead>\n",
       "    <tr style=\"text-align: right;\">\n",
       "      <th></th>\n",
       "      <th>LigID</th>\n",
       "      <th>Isoform</th>\n",
       "      <th>Variant</th>\n",
       "      <th>Origin</th>\n",
       "      <th>PDB</th>\n",
       "      <th>EEL_A</th>\n",
       "      <th>EEL_B</th>\n",
       "      <th>EEL</th>\n",
       "      <th>VDW_A</th>\n",
       "      <th>VDW_B</th>\n",
       "      <th>VDW</th>\n",
       "      <th>dGexp</th>\n",
       "      <th>Ki</th>\n",
       "      <th>AltID</th>\n",
       "      <th>Reference</th>\n",
       "      <th>subform</th>\n",
       "      <th>dGLIE</th>\n",
       "    </tr>\n",
       "  </thead>\n",
       "  <tbody>\n",
       "    <tr>\n",
       "      <th>0</th>\n",
       "      <td>JI4</td>\n",
       "      <td>nNOS</td>\n",
       "      <td>WT</td>\n",
       "      <td>rat</td>\n",
       "      <td>3JWS</td>\n",
       "      <td>-68.35</td>\n",
       "      <td>-71.93</td>\n",
       "      <td>-70.140</td>\n",
       "      <td>-45.55</td>\n",
       "      <td>-46.02</td>\n",
       "      <td>-45.785</td>\n",
       "      <td>-9.893899</td>\n",
       "      <td>0.0522</td>\n",
       "      <td>J4</td>\n",
       "      <td>1</td>\n",
       "      <td>nNOS</td>\n",
       "      <td>-9.246057</td>\n",
       "    </tr>\n",
       "    <tr>\n",
       "      <th>2</th>\n",
       "      <td>JI4</td>\n",
       "      <td>eNOS</td>\n",
       "      <td>WT</td>\n",
       "      <td>bovine</td>\n",
       "      <td>3JWW</td>\n",
       "      <td>-47.24</td>\n",
       "      <td>-42.15</td>\n",
       "      <td>-44.695</td>\n",
       "      <td>-41.05</td>\n",
       "      <td>-46.43</td>\n",
       "      <td>-43.740</td>\n",
       "      <td>-6.220288</td>\n",
       "      <td>26.4000</td>\n",
       "      <td>J4</td>\n",
       "      <td>1</td>\n",
       "      <td>eNOS</td>\n",
       "      <td>-6.632109</td>\n",
       "    </tr>\n",
       "    <tr>\n",
       "      <th>3</th>\n",
       "      <td>J11</td>\n",
       "      <td>nNOS</td>\n",
       "      <td>WT</td>\n",
       "      <td>rat</td>\n",
       "      <td>3JWU</td>\n",
       "      <td>-69.56</td>\n",
       "      <td>-68.21</td>\n",
       "      <td>-68.885</td>\n",
       "      <td>-47.70</td>\n",
       "      <td>-44.56</td>\n",
       "      <td>-46.130</td>\n",
       "      <td>-9.193769</td>\n",
       "      <td>0.1710</td>\n",
       "      <td>J11</td>\n",
       "      <td>1</td>\n",
       "      <td>nNOS</td>\n",
       "      <td>-9.134307</td>\n",
       "    </tr>\n",
       "    <tr>\n",
       "      <th>4</th>\n",
       "      <td>J11</td>\n",
       "      <td>eNOS</td>\n",
       "      <td>WT</td>\n",
       "      <td>bovine</td>\n",
       "      <td>3JWY</td>\n",
       "      <td>-38.68</td>\n",
       "      <td>-47.70</td>\n",
       "      <td>-43.190</td>\n",
       "      <td>-48.68</td>\n",
       "      <td>-47.77</td>\n",
       "      <td>-48.225</td>\n",
       "      <td>-6.215835</td>\n",
       "      <td>26.6000</td>\n",
       "      <td>J11</td>\n",
       "      <td>1</td>\n",
       "      <td>eNOS</td>\n",
       "      <td>-6.654931</td>\n",
       "    </tr>\n",
       "    <tr>\n",
       "      <th>5</th>\n",
       "      <td>JI5</td>\n",
       "      <td>nNOS</td>\n",
       "      <td>WT</td>\n",
       "      <td>rat</td>\n",
       "      <td>3JWT</td>\n",
       "      <td>-90.62</td>\n",
       "      <td>-89.33</td>\n",
       "      <td>-89.975</td>\n",
       "      <td>-40.16</td>\n",
       "      <td>-39.02</td>\n",
       "      <td>-39.590</td>\n",
       "      <td>-11.243542</td>\n",
       "      <td>0.0053</td>\n",
       "      <td>J5</td>\n",
       "      <td>1</td>\n",
       "      <td>nNOS</td>\n",
       "      <td>-10.983643</td>\n",
       "    </tr>\n",
       "  </tbody>\n",
       "</table>\n",
       "</div>"
      ],
      "text/plain": [
       "  LigID Isoform Variant  Origin   PDB  EEL_A  EEL_B     EEL  VDW_A  VDW_B  \\\n",
       "0   JI4    nNOS      WT     rat  3JWS -68.35 -71.93 -70.140 -45.55 -46.02   \n",
       "2   JI4    eNOS      WT  bovine  3JWW -47.24 -42.15 -44.695 -41.05 -46.43   \n",
       "3   J11    nNOS      WT     rat  3JWU -69.56 -68.21 -68.885 -47.70 -44.56   \n",
       "4   J11    eNOS      WT  bovine  3JWY -38.68 -47.70 -43.190 -48.68 -47.77   \n",
       "5   JI5    nNOS      WT     rat  3JWT -90.62 -89.33 -89.975 -40.16 -39.02   \n",
       "\n",
       "      VDW      dGexp       Ki AltID  Reference subform      dGLIE  \n",
       "0 -45.785  -9.893899   0.0522    J4          1    nNOS  -9.246057  \n",
       "2 -43.740  -6.220288  26.4000    J4          1    eNOS  -6.632109  \n",
       "3 -46.130  -9.193769   0.1710   J11          1    nNOS  -9.134307  \n",
       "4 -48.225  -6.215835  26.6000   J11          1    eNOS  -6.654931  \n",
       "5 -39.590 -11.243542   0.0053    J5          1    nNOS -10.983643  "
      ]
     },
     "execution_count": 20,
     "metadata": {},
     "output_type": "execute_result"
    }
   ],
   "source": [
    "data.head()"
   ]
  },
  {
   "cell_type": "markdown",
   "id": "4bb1250c",
   "metadata": {},
   "source": [
    "### Now let's see how things change where we only include \"shared inhibitors\" or cases where we have LIEuated ∆G for eNOS and nNOS"
   ]
  },
  {
   "cell_type": "code",
   "execution_count": 21,
   "id": "de463f27",
   "metadata": {},
   "outputs": [],
   "source": [
    "# Select the matching inhibitor subset\n",
    "data_match = data.loc[data.duplicated(subset='LigID', keep=False)]\n",
    "dGexpM = data_match['dGexp'].to_numpy()"
   ]
  },
  {
   "cell_type": "code",
   "execution_count": 22,
   "id": "3af03218",
   "metadata": {},
   "outputs": [],
   "source": [
    "#Perform the same bootstrap analysis\n",
    "samples = 100000\n",
    "matchingnos_output,distM = bootstrapper(data_match,data_match.shape[0],samples)"
   ]
  },
  {
   "cell_type": "code",
   "execution_count": 24,
   "id": "96145a22",
   "metadata": {},
   "outputs": [
    {
     "data": {
      "image/png": "[encoded data removed]",
      "text/plain": [
       "<Figure size 900x300 with 3 Axes>"
      ]
     },
     "metadata": {},
     "output_type": "display_data"
    }
   ],
   "source": [
    "histoplot(matchingnos_output,1000,save=True,fname=\"matching_wt\")"
   ]
  },
  {
   "cell_type": "code",
   "execution_count": 25,
   "id": "59de1c11",
   "metadata": {},
   "outputs": [
    {
     "name": "stdout",
     "output_type": "stream",
     "text": [
      "For this matching data subset...\n",
      "α is 0.1066 with a standard deviation of 0.0055.\n",
      "β is 0.0399 with a standard deviation of 0.0302.\n",
      "γ is -0.0674 with a standard deviation of 1.3183.\n",
      "\n",
      "This is compared to the full data set where...\n",
      "α is 0.0996 with a standard deviation of 0.0041.\n",
      "β is 0.0385 with a standard deviation of 0.0205.\n",
      "γ is -0.4941 with a standard deviation of 0.9562.\n"
     ]
    }
   ],
   "source": [
    "alphaM = matchingnos_output['alpha'].mean()\n",
    "betaM = matchingnos_output['beta'].mean()\n",
    "gammaM = matchingnos_output['gamma'].mean()\n",
    "\n",
    "dGLIEM = alphaM*data_match['EEL'] + betaM*data_match['VDW'] + gammaM\n",
    "LIEGM = pd.DataFrame({'dGLIEM': dGLIEM})\n",
    "data_match = pd.concat([data_match,LIEGM],axis=1)\n",
    "\n",
    "dGLIEM_applied = alphaM*data['EEL'] + betaM*data['VDW'] + gammaM\n",
    "LIEGM_applied = pd.DataFrame({'dGLIEM_app': dGLIEM_applied})\n",
    "data_applied = pd.concat([data,LIEGM_applied],axis=1)\n",
    "\n",
    "\n",
    "print(\"For this matching data subset...\")\n",
    "print(\"α is %.4f with a standard deviation of %.4f.\" % (matchingnos_output['alpha'].mean(), matchingnos_output['alpha'].std()))\n",
    "print(\"β is %.4f with a standard deviation of %.4f.\" % (matchingnos_output['beta'].mean(), matchingnos_output['beta'].std()))\n",
    "print(\"γ is %.4f with a standard deviation of %.4f.\" % (matchingnos_output['gamma'].mean(), matchingnos_output['gamma'].std()))\n",
    "\n",
    "print(\"\\nThis is compared to the full data set where...\")\n",
    "print(\"α is %.4f with a standard deviation of %.4f.\" % (wtnos_output['alpha'].mean(), wtnos_output['alpha'].std()))\n",
    "print(\"β is %.4f with a standard deviation of %.4f.\" % (wtnos_output['beta'].mean(), wtnos_output['beta'].std()))\n",
    "print(\"γ is %.4f with a standard deviation of %.4f.\" % (wtnos_output['gamma'].mean(), wtnos_output['gamma'].std()))"
   ]
  },
  {
   "cell_type": "code",
   "execution_count": 26,
   "id": "72dc5231",
   "metadata": {},
   "outputs": [
    {
     "name": "stdout",
     "output_type": "stream",
     "text": [
      "The R² for this fit is 0.911. See figure below.\n"
     ]
    }
   ],
   "source": [
    "# Perform the regression again on the matching data subset\n",
    "slopeM, interceptM, r_valueM, p_valueM, std_errM = scipy.stats.linregress(dGLIEM, dGexpM)\n",
    "dGrangeM = np.linspace(min(dGLIEM)-.1,max(dGLIEM)+.1)\n",
    "linefitM = slopeM*dGrangeM +interceptM\n",
    "rsqM = r_valueM**2\n",
    "print(\"The R\\u00b2 for this fit is %.3f. See figure below.\" % (rsqM))"
   ]
  },
  {
   "cell_type": "markdown",
   "id": "84df8a69",
   "metadata": {},
   "source": [
    "### We also want to point out the tightest and weakest binding inhibitors to nNOS data in the matching subset and see where they fall in the eNOS data distribution."
   ]
  },
  {
   "cell_type": "code",
   "execution_count": 27,
   "id": "bc5bb1d6",
   "metadata": {},
   "outputs": [],
   "source": [
    "# Filtering data based on condition \"Isoform == 'nNOS'\"\n",
    "subset_nnos = data_match[data_match[\"Isoform\"] == \"nNOS\"]\n",
    "\n",
    "# Filtering data based on condition \"Isoform == 'eNOS'\"\n",
    "subset_enos = data_match[data_match[\"Isoform\"] == \"eNOS\"]\n",
    "\n",
    "# Finding the maximum value of 'dGexp' in subset_nnos\n",
    "nnosmatchmax = subset_nnos[subset_nnos[\"dGexp\"] == subset_nnos[\"dGexp\"].max()]\n",
    "\n",
    "# Finding the minimum value of 'dGexp' in subset_nnos\n",
    "nnosmatchmin = subset_nnos[subset_nnos[\"dGexp\"] == subset_nnos[\"dGexp\"].min()]\n",
    "\n",
    "# Extracting the 'inhibitor' corresponding to the maximum 'dGexp' in subset_nnos\n",
    "subset_nnos_maxinhibit = nnosmatchmax['LigID'].item()\n",
    "\n",
    "# Extracting the 'inhibitor' corresponding to the minimum 'dGexp' in subset_nnos\n",
    "subset_nnos_mininhibit = nnosmatchmin['LigID'].item()\n",
    "\n",
    "# Filtering subset_enos based on the 'inhibitor' value obtained from subset_nnos_mininhibit\n",
    "enosmatchmin = subset_enos[subset_enos['LigID'] == subset_nnos_mininhibit]\n",
    "\n",
    "# Filtering subset_enos based on the 'inhibitor' value obtained from subset_nnos_maxinhibit\n",
    "enosmatchmax = subset_enos[subset_enos['LigID'] == subset_nnos_maxinhibit]\n"
   ]
  },
  {
   "cell_type": "markdown",
   "id": "491ee42d",
   "metadata": {},
   "source": [
    "## Figure 4"
   ]
  },
  {
   "cell_type": "code",
   "execution_count": 51,
   "id": "51ced949",
   "metadata": {},
   "outputs": [
    {
     "data": {
      "image/png": "[encoded data removed]",
      "text/plain": [
       "<Figure size 500x400 with 2 Axes>"
      ]
     },
     "metadata": {},
     "output_type": "display_data"
    }
   ],
   "source": [
    "rconst =  0.001985875;\n",
    "temp = 297.25;\n",
    "nosM = np.array(data_match['Isoform']=='nNOS')\n",
    "colM = np.where(nosM,'b','r')\n",
    "fig ,ax = plt.subplots(1,1,figsize=(5,4))\n",
    "fig.tight_layout()\n",
    "plt.plot(dGrangeM,linefitM,'k--')\n",
    "plt.scatter(dGLIEM,dGexpM,c=colM,s=28,edgecolor='k')\n",
    "plt.scatter(nnosmatchmin['dGLIEM'].item(),nnosmatchmin['dGexp'].item(),c='b',marker='D',s=100,edgecolor='k')\n",
    "plt.scatter(nnosmatchmax['dGLIEM'].item(),nnosmatchmax['dGexp'].item(),c='b',marker='s',s=100,edgecolor='k')\n",
    "plt.scatter(enosmatchmin['dGLIEM'].item(),enosmatchmin['dGexp'].item(),c='r',marker='D',s=100,edgecolor='k')\n",
    "plt.scatter(enosmatchmax['dGLIEM'].item(),enosmatchmax['dGexp'].item(),c='r',marker='s',s=100,edgecolor='k')\n",
    "plt.annotate(subset_nnos_mininhibit, (nnosmatchmin['dGLIEM'].item()-.15, nnosmatchmin['dGexp'].item()+0.3))\n",
    "plt.annotate(subset_nnos_maxinhibit, (nnosmatchmax['dGLIEM'].item()+.25, nnosmatchmax['dGexp'].item()-0.1))\n",
    "plt.annotate(subset_nnos_mininhibit, (enosmatchmin['dGLIEM'].item()+.1, enosmatchmin['dGexp'].item()-0.25))\n",
    "plt.annotate(subset_nnos_maxinhibit, (enosmatchmax['dGLIEM'].item()-.25, enosmatchmax['dGexp'].item()-0.50))\n",
    "\n",
    "ax.spines['top'].set_linewidth(2)\n",
    "ax.spines['right'].set_linewidth(2)\n",
    "ax.spines['bottom'].set_linewidth(2)\n",
    "ax.spines['left'].set_linewidth(2)\n",
    "ax.xaxis.set_tick_params(labelsize=14, width=1,direction='in')\n",
    "ax.yaxis.set_tick_params(labelsize=14, width=1,direction='in')\n",
    "ax.set_xlabel('∆G$_{LIE}$ (kcal/mol)', fontsize=16, fontweight='regular')\n",
    "ax.set_ylabel('∆G$_{exp}$ (kcal/mol)', fontsize=16, fontweight='regular')\n",
    "ax.xaxis.label.set_color('k')\n",
    "ax.yaxis.label.set_color('k')\n",
    "\n",
    "ax2 = ax.twinx()\n",
    "ax2.plot(dGrangeM,np.log((np.exp(linefitM/(rconst*temp)))*1e6),'none')\n",
    "ax2.yaxis.set_tick_params(labelsize=14, width=1,direction='in')\n",
    "ax2.set_ylabel('log(K$_i$ (µM))', fontsize=16, fontweight='regular')\n",
    "ax2.yaxis.label.set_color('k')\n",
    "#plt.autoscale()\n",
    "#plt.subplots_adjust(left=0.25)\n",
    "#plt.subplots_adjust(bottom=0.25)\n",
    "# Save as PNG\n",
    "plt.savefig('figure_4.png', dpi=300,bbox_inches='tight')\n",
    "\n",
    "# Save as SVG\n",
    "plt.savefig('figure_4.svg', dpi=300,bbox_inches='tight')"
   ]
  },
  {
   "cell_type": "markdown",
   "id": "f2d0cab3",
   "metadata": {},
   "source": [
    "#### The scatter plot illustrates the comparison between calculated (∆G${LIE}$) and experimental (∆G${exp}$) free energy values for the inhibition of nitric oxide synthase (NOS) isoforms. The data points are color-coded based on the NOS isoform, with blue indicating neuronal NOS (nNOS) and red indicating endothelial NOS (eNOS). Additionally, diamond markers represent the minimum inhibition data points for nNOS and square markers represent the maximum inhibition data points for both nNOS and eNOS. The secondary y-axis shows the corresponding logarithmic inhibition constants (log(K$i$)) calculated from the regression line fitted to the data points. The x-axis denotes the calculated free energy (∆G${LIE}$) in kcal/mol, while the y-axis represents the experimental free energy (∆G$_{exp}$) in kcal/mol. The logarithmic inhibition constants are represented in units of µM. The solid black line represents the regression line fitted to the data points. "
   ]
  },
  {
   "cell_type": "markdown",
   "id": "fe2c9298",
   "metadata": {},
   "source": [
    "## Below is just saving the data frames to files"
   ]
  },
  {
   "cell_type": "code",
   "execution_count": 29,
   "id": "59c0efc7",
   "metadata": {},
   "outputs": [],
   "source": [
    "data.to_excel('dGLIE_WT.xlsx')"
   ]
  },
  {
   "cell_type": "code",
   "execution_count": 30,
   "id": "54609b24",
   "metadata": {},
   "outputs": [],
   "source": [
    "data_match.to_excel('dGLIE_WT_match.xlsx')"
   ]
  },
  {
   "cell_type": "code",
   "execution_count": 31,
   "id": "1e96c41e",
   "metadata": {},
   "outputs": [],
   "source": [
    "data_applied.to_excel('dGLIE_WT_match2.xlsx')"
   ]
  },
  {
   "cell_type": "code",
   "execution_count": 32,
   "id": "f37e5a5c",
   "metadata": {},
   "outputs": [],
   "source": [
    "# Generating the data that will be used for creating Table 2 and Table S2 of the Manuscript."
   ]
  },
  {
   "cell_type": "code",
   "execution_count": 33,
   "id": "e5bc5a41",
   "metadata": {},
   "outputs": [],
   "source": [
    "Table_S2 = pd.concat([data['LigID'],data['Isoform'],data['Origin'],data['PDB'],data['EEL'],data['VDW'],data['dGexp'],data['dGLIE'],data_applied['dGLIEM_app']],axis=1)"
   ]
  },
  {
   "cell_type": "code",
   "execution_count": 34,
   "id": "2e2c6bcb",
   "metadata": {},
   "outputs": [],
   "source": [
    "Table_S2.to_excel('Table_S2.xlsx')"
   ]
  }
 ],
 "metadata": {
  "kernelspec": {
   "display_name": "Python 3 (ipykernel)",
   "language": "python",
   "name": "python3"
  },
  "language_info": {
   "codemirror_mode": {
    "name": "ipython",
    "version": 3
   },
   "file_extension": ".py",
   "mimetype": "text/x-python",
   "name": "python",
   "nbconvert_exporter": "python",
   "pygments_lexer": "ipython3",
   "version": "3.7.6"
  }
 },
 "nbformat": 4,
 "nbformat_minor": 5
}
